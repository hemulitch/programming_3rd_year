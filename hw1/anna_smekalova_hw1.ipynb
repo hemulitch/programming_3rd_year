{
  "nbformat": 4,
  "nbformat_minor": 0,
  "metadata": {
    "colab": {
      "provenance": []
    },
    "kernelspec": {
      "name": "python3",
      "display_name": "Python 3"
    },
    "language_info": {
      "name": "python"
    }
  },
  "cells": [
    {
      "cell_type": "code",
      "source": [
        "! git clone https://github.com/hemulitch/programming_3rd_year.git"
      ],
      "metadata": {
        "id": "xF5xocyw_wPN"
      },
      "execution_count": null,
      "outputs": []
    },
    {
      "cell_type": "code",
      "source": [
        "! pip install pymorphy2"
      ],
      "metadata": {
        "id": "jfeJu3PYBi1J"
      },
      "execution_count": null,
      "outputs": []
    },
    {
      "cell_type": "markdown",
      "source": [
        "#### Импорты"
      ],
      "metadata": {
        "id": "96HqVUxiBR0r"
      }
    },
    {
      "cell_type": "code",
      "source": [
        "import pandas as pd\n",
        "import nltk\n",
        "nltk.download(\"stopwords\")\n",
        "nltk.download('punkt')\n",
        "from nltk.corpus import stopwords\n",
        "from pymorphy2 import MorphAnalyzer\n",
        "from collections import Counter\n",
        "from sklearn.metrics import accuracy_score"
      ],
      "metadata": {
        "id": "W5wYYry61V3K",
        "colab": {
          "base_uri": "https://localhost:8080/"
        },
        "outputId": "da57dfa5-1690-4532-f3b6-38bcc8c4d4e8"
      },
      "execution_count": 3,
      "outputs": [
        {
          "output_type": "stream",
          "name": "stderr",
          "text": [
            "[nltk_data] Downloading package stopwords to /root/nltk_data...\n",
            "[nltk_data]   Unzipping corpora/stopwords.zip.\n",
            "[nltk_data] Downloading package punkt to /root/nltk_data...\n",
            "[nltk_data]   Unzipping tokenizers/punkt.zip.\n"
          ]
        }
      ]
    },
    {
      "cell_type": "markdown",
      "source": [
        "#### Данные"
      ],
      "metadata": {
        "id": "s_G5KzOYBUq9"
      }
    },
    {
      "cell_type": "code",
      "source": [
        "dataset = pd.read_csv('/content/programming_3rd_year/hw1/result.csv', delimiter=';')"
      ],
      "metadata": {
        "id": "3rekEDh7Bz9C"
      },
      "execution_count": 4,
      "outputs": []
    },
    {
      "cell_type": "code",
      "source": [
        "dataset = dataset.drop(['Unnamed: 0'], axis=1)\n",
        "dataset.head()"
      ],
      "metadata": {
        "colab": {
          "base_uri": "https://localhost:8080/",
          "height": 204
        },
        "id": "FaLWsmYSZc-U",
        "outputId": "77358c95-1b7b-4faa-a1fa-d04fe0e431c3"
      },
      "execution_count": 5,
      "outputs": [
        {
          "output_type": "execute_result",
          "data": {
            "text/plain": [
              "                                               Отзыв  Оценка\n",
              "0  \\n \\n\\n\\n\\n\\n\\n\\n\\n\\n\\n\\nЯ хотела бы поделитьс...     5.0\n",
              "1  Давно искала идеальный тональный крем. Фирму K...     5.0\n",
              "2  Доброе утро!☀️ Недавно купила тональный крем G...     3.0\n",
              "3  Всем привет. Продолжая поиски идеального тонал...     3.0\n",
              "4  О данном тональном креме я узнала пару месяцев...     5.0"
            ],
            "text/html": [
              "\n",
              "  <div id=\"df-9113a4ad-8004-4c33-979f-b3126038d1ad\" class=\"colab-df-container\">\n",
              "    <div>\n",
              "<style scoped>\n",
              "    .dataframe tbody tr th:only-of-type {\n",
              "        vertical-align: middle;\n",
              "    }\n",
              "\n",
              "    .dataframe tbody tr th {\n",
              "        vertical-align: top;\n",
              "    }\n",
              "\n",
              "    .dataframe thead th {\n",
              "        text-align: right;\n",
              "    }\n",
              "</style>\n",
              "<table border=\"1\" class=\"dataframe\">\n",
              "  <thead>\n",
              "    <tr style=\"text-align: right;\">\n",
              "      <th></th>\n",
              "      <th>Отзыв</th>\n",
              "      <th>Оценка</th>\n",
              "    </tr>\n",
              "  </thead>\n",
              "  <tbody>\n",
              "    <tr>\n",
              "      <th>0</th>\n",
              "      <td>\\n \\n\\n\\n\\n\\n\\n\\n\\n\\n\\n\\nЯ хотела бы поделитьс...</td>\n",
              "      <td>5.0</td>\n",
              "    </tr>\n",
              "    <tr>\n",
              "      <th>1</th>\n",
              "      <td>Давно искала идеальный тональный крем. Фирму K...</td>\n",
              "      <td>5.0</td>\n",
              "    </tr>\n",
              "    <tr>\n",
              "      <th>2</th>\n",
              "      <td>Доброе утро!☀️ Недавно купила тональный крем G...</td>\n",
              "      <td>3.0</td>\n",
              "    </tr>\n",
              "    <tr>\n",
              "      <th>3</th>\n",
              "      <td>Всем привет. Продолжая поиски идеального тонал...</td>\n",
              "      <td>3.0</td>\n",
              "    </tr>\n",
              "    <tr>\n",
              "      <th>4</th>\n",
              "      <td>О данном тональном креме я узнала пару месяцев...</td>\n",
              "      <td>5.0</td>\n",
              "    </tr>\n",
              "  </tbody>\n",
              "</table>\n",
              "</div>\n",
              "    <div class=\"colab-df-buttons\">\n",
              "\n",
              "  <div class=\"colab-df-container\">\n",
              "    <button class=\"colab-df-convert\" onclick=\"convertToInteractive('df-9113a4ad-8004-4c33-979f-b3126038d1ad')\"\n",
              "            title=\"Convert this dataframe to an interactive table.\"\n",
              "            style=\"display:none;\">\n",
              "\n",
              "  <svg xmlns=\"http://www.w3.org/2000/svg\" height=\"24px\" viewBox=\"0 -960 960 960\">\n",
              "    <path d=\"M120-120v-720h720v720H120Zm60-500h600v-160H180v160Zm220 220h160v-160H400v160Zm0 220h160v-160H400v160ZM180-400h160v-160H180v160Zm440 0h160v-160H620v160ZM180-180h160v-160H180v160Zm440 0h160v-160H620v160Z\"/>\n",
              "  </svg>\n",
              "    </button>\n",
              "\n",
              "  <style>\n",
              "    .colab-df-container {\n",
              "      display:flex;\n",
              "      gap: 12px;\n",
              "    }\n",
              "\n",
              "    .colab-df-convert {\n",
              "      background-color: #E8F0FE;\n",
              "      border: none;\n",
              "      border-radius: 50%;\n",
              "      cursor: pointer;\n",
              "      display: none;\n",
              "      fill: #1967D2;\n",
              "      height: 32px;\n",
              "      padding: 0 0 0 0;\n",
              "      width: 32px;\n",
              "    }\n",
              "\n",
              "    .colab-df-convert:hover {\n",
              "      background-color: #E2EBFA;\n",
              "      box-shadow: 0px 1px 2px rgba(60, 64, 67, 0.3), 0px 1px 3px 1px rgba(60, 64, 67, 0.15);\n",
              "      fill: #174EA6;\n",
              "    }\n",
              "\n",
              "    .colab-df-buttons div {\n",
              "      margin-bottom: 4px;\n",
              "    }\n",
              "\n",
              "    [theme=dark] .colab-df-convert {\n",
              "      background-color: #3B4455;\n",
              "      fill: #D2E3FC;\n",
              "    }\n",
              "\n",
              "    [theme=dark] .colab-df-convert:hover {\n",
              "      background-color: #434B5C;\n",
              "      box-shadow: 0px 1px 3px 1px rgba(0, 0, 0, 0.15);\n",
              "      filter: drop-shadow(0px 1px 2px rgba(0, 0, 0, 0.3));\n",
              "      fill: #FFFFFF;\n",
              "    }\n",
              "  </style>\n",
              "\n",
              "    <script>\n",
              "      const buttonEl =\n",
              "        document.querySelector('#df-9113a4ad-8004-4c33-979f-b3126038d1ad button.colab-df-convert');\n",
              "      buttonEl.style.display =\n",
              "        google.colab.kernel.accessAllowed ? 'block' : 'none';\n",
              "\n",
              "      async function convertToInteractive(key) {\n",
              "        const element = document.querySelector('#df-9113a4ad-8004-4c33-979f-b3126038d1ad');\n",
              "        const dataTable =\n",
              "          await google.colab.kernel.invokeFunction('convertToInteractive',\n",
              "                                                    [key], {});\n",
              "        if (!dataTable) return;\n",
              "\n",
              "        const docLinkHtml = 'Like what you see? Visit the ' +\n",
              "          '<a target=\"_blank\" href=https://colab.research.google.com/notebooks/data_table.ipynb>data table notebook</a>'\n",
              "          + ' to learn more about interactive tables.';\n",
              "        element.innerHTML = '';\n",
              "        dataTable['output_type'] = 'display_data';\n",
              "        await google.colab.output.renderOutput(dataTable, element);\n",
              "        const docLink = document.createElement('div');\n",
              "        docLink.innerHTML = docLinkHtml;\n",
              "        element.appendChild(docLink);\n",
              "      }\n",
              "    </script>\n",
              "  </div>\n",
              "\n",
              "\n",
              "<div id=\"df-4ac31800-3f5f-477e-8e57-2789c782a1c5\">\n",
              "  <button class=\"colab-df-quickchart\" onclick=\"quickchart('df-4ac31800-3f5f-477e-8e57-2789c782a1c5')\"\n",
              "            title=\"Suggest charts.\"\n",
              "            style=\"display:none;\">\n",
              "\n",
              "<svg xmlns=\"http://www.w3.org/2000/svg\" height=\"24px\"viewBox=\"0 0 24 24\"\n",
              "     width=\"24px\">\n",
              "    <g>\n",
              "        <path d=\"M19 3H5c-1.1 0-2 .9-2 2v14c0 1.1.9 2 2 2h14c1.1 0 2-.9 2-2V5c0-1.1-.9-2-2-2zM9 17H7v-7h2v7zm4 0h-2V7h2v10zm4 0h-2v-4h2v4z\"/>\n",
              "    </g>\n",
              "</svg>\n",
              "  </button>\n",
              "\n",
              "<style>\n",
              "  .colab-df-quickchart {\n",
              "      --bg-color: #E8F0FE;\n",
              "      --fill-color: #1967D2;\n",
              "      --hover-bg-color: #E2EBFA;\n",
              "      --hover-fill-color: #174EA6;\n",
              "      --disabled-fill-color: #AAA;\n",
              "      --disabled-bg-color: #DDD;\n",
              "  }\n",
              "\n",
              "  [theme=dark] .colab-df-quickchart {\n",
              "      --bg-color: #3B4455;\n",
              "      --fill-color: #D2E3FC;\n",
              "      --hover-bg-color: #434B5C;\n",
              "      --hover-fill-color: #FFFFFF;\n",
              "      --disabled-bg-color: #3B4455;\n",
              "      --disabled-fill-color: #666;\n",
              "  }\n",
              "\n",
              "  .colab-df-quickchart {\n",
              "    background-color: var(--bg-color);\n",
              "    border: none;\n",
              "    border-radius: 50%;\n",
              "    cursor: pointer;\n",
              "    display: none;\n",
              "    fill: var(--fill-color);\n",
              "    height: 32px;\n",
              "    padding: 0;\n",
              "    width: 32px;\n",
              "  }\n",
              "\n",
              "  .colab-df-quickchart:hover {\n",
              "    background-color: var(--hover-bg-color);\n",
              "    box-shadow: 0 1px 2px rgba(60, 64, 67, 0.3), 0 1px 3px 1px rgba(60, 64, 67, 0.15);\n",
              "    fill: var(--button-hover-fill-color);\n",
              "  }\n",
              "\n",
              "  .colab-df-quickchart-complete:disabled,\n",
              "  .colab-df-quickchart-complete:disabled:hover {\n",
              "    background-color: var(--disabled-bg-color);\n",
              "    fill: var(--disabled-fill-color);\n",
              "    box-shadow: none;\n",
              "  }\n",
              "\n",
              "  .colab-df-spinner {\n",
              "    border: 2px solid var(--fill-color);\n",
              "    border-color: transparent;\n",
              "    border-bottom-color: var(--fill-color);\n",
              "    animation:\n",
              "      spin 1s steps(1) infinite;\n",
              "  }\n",
              "\n",
              "  @keyframes spin {\n",
              "    0% {\n",
              "      border-color: transparent;\n",
              "      border-bottom-color: var(--fill-color);\n",
              "      border-left-color: var(--fill-color);\n",
              "    }\n",
              "    20% {\n",
              "      border-color: transparent;\n",
              "      border-left-color: var(--fill-color);\n",
              "      border-top-color: var(--fill-color);\n",
              "    }\n",
              "    30% {\n",
              "      border-color: transparent;\n",
              "      border-left-color: var(--fill-color);\n",
              "      border-top-color: var(--fill-color);\n",
              "      border-right-color: var(--fill-color);\n",
              "    }\n",
              "    40% {\n",
              "      border-color: transparent;\n",
              "      border-right-color: var(--fill-color);\n",
              "      border-top-color: var(--fill-color);\n",
              "    }\n",
              "    60% {\n",
              "      border-color: transparent;\n",
              "      border-right-color: var(--fill-color);\n",
              "    }\n",
              "    80% {\n",
              "      border-color: transparent;\n",
              "      border-right-color: var(--fill-color);\n",
              "      border-bottom-color: var(--fill-color);\n",
              "    }\n",
              "    90% {\n",
              "      border-color: transparent;\n",
              "      border-bottom-color: var(--fill-color);\n",
              "    }\n",
              "  }\n",
              "</style>\n",
              "\n",
              "  <script>\n",
              "    async function quickchart(key) {\n",
              "      const quickchartButtonEl =\n",
              "        document.querySelector('#' + key + ' button');\n",
              "      quickchartButtonEl.disabled = true;  // To prevent multiple clicks.\n",
              "      quickchartButtonEl.classList.add('colab-df-spinner');\n",
              "      try {\n",
              "        const charts = await google.colab.kernel.invokeFunction(\n",
              "            'suggestCharts', [key], {});\n",
              "      } catch (error) {\n",
              "        console.error('Error during call to suggestCharts:', error);\n",
              "      }\n",
              "      quickchartButtonEl.classList.remove('colab-df-spinner');\n",
              "      quickchartButtonEl.classList.add('colab-df-quickchart-complete');\n",
              "    }\n",
              "    (() => {\n",
              "      let quickchartButtonEl =\n",
              "        document.querySelector('#df-4ac31800-3f5f-477e-8e57-2789c782a1c5 button');\n",
              "      quickchartButtonEl.style.display =\n",
              "        google.colab.kernel.accessAllowed ? 'block' : 'none';\n",
              "    })();\n",
              "  </script>\n",
              "</div>\n",
              "    </div>\n",
              "  </div>\n"
            ]
          },
          "metadata": {},
          "execution_count": 5
        }
      ]
    },
    {
      "cell_type": "code",
      "source": [
        "# удаляем пустые строчки\n",
        "dataset = dataset.dropna()"
      ],
      "metadata": {
        "id": "GBACkwoLCcEH"
      },
      "execution_count": 6,
      "outputs": []
    },
    {
      "cell_type": "markdown",
      "source": [
        "#### Метки классов"
      ],
      "metadata": {
        "id": "mHxdOprECj29"
      }
    },
    {
      "cell_type": "markdown",
      "source": [
        "Отзывы с оценками 1 и 2 мы будем классифицировать как негативные, а с оценками 4 и 5 - как позитивные."
      ],
      "metadata": {
        "id": "lPmA-iqeZ44P"
      }
    },
    {
      "cell_type": "code",
      "source": [
        "dataset['Оценка'].value_counts()"
      ],
      "metadata": {
        "colab": {
          "base_uri": "https://localhost:8080/"
        },
        "id": "XpJTUsERCyqn",
        "outputId": "4ac2f0bf-43f3-496c-dd71-f088d57afb74"
      },
      "execution_count": 7,
      "outputs": [
        {
          "output_type": "execute_result",
          "data": {
            "text/plain": [
              "5.0    227\n",
              "4.0    123\n",
              "3.0     52\n",
              "2.0     20\n",
              "1.0     15\n",
              "Name: Оценка, dtype: int64"
            ]
          },
          "metadata": {},
          "execution_count": 7
        }
      ]
    },
    {
      "cell_type": "markdown",
      "source": [
        "Однако, распределение классов в полученном датасете очень неравномерное, поэтому я решила вручную выбрать отзывы, с оценкой 3, которые больше похожи на позитивные, чем на негативные, и убрать их из таблицы, а оставшиеся отзывы с оценкой 3 добавить в класс негативных отзывов"
      ],
      "metadata": {
        "id": "ulIYdv0RZsxz"
      }
    },
    {
      "cell_type": "code",
      "source": [
        "dataset = dataset.drop([3, 9, 27, 34, 38, 48, 54, 83, 88, 95, 108, 130, 135, 144, 188, 234, 267, 272, 278, 282, 303, 346, 371, 375, 393,\n",
        "                        405, 416, 417])"
      ],
      "metadata": {
        "id": "jlw9phgmaX83"
      },
      "execution_count": 8,
      "outputs": []
    },
    {
      "cell_type": "markdown",
      "source": [
        "Теперь переведем отзывы в два класса: положительные отзывы - 1, негативные отзывы - 0"
      ],
      "metadata": {
        "id": "QAfSVm6re4uj"
      }
    },
    {
      "cell_type": "code",
      "source": [
        "grades_to_binary = [1 if grade in [4, 5] else 0 for grade in list(dataset['Оценка'])]\n",
        "dataset['Класс'] = grades_to_binary"
      ],
      "metadata": {
        "id": "KQnS4paLCjS3"
      },
      "execution_count": 9,
      "outputs": []
    },
    {
      "cell_type": "code",
      "source": [
        "# разделим на 2 набора данных\n",
        "data_neg = dataset[dataset['Класс'] == 0]\n",
        "data_pos = dataset[dataset['Класс'] == 1]"
      ],
      "metadata": {
        "id": "41eSXEI-fNPd"
      },
      "execution_count": 10,
      "outputs": []
    },
    {
      "cell_type": "code",
      "source": [
        "# уменьшаем размер data_pos, чтобы не было дисбаланса классов\n",
        "data_pos = data_pos[:59]"
      ],
      "metadata": {
        "id": "4gk2gPhFfjdC"
      },
      "execution_count": 11,
      "outputs": []
    },
    {
      "cell_type": "code",
      "source": [
        "# отдельно выделим отзывы для теста, отдельно для \"обучения\"\n",
        "train_neg = data_neg[:50]\n",
        "train_pos = data_pos[:50]\n",
        "test_neg = data_neg[50:]\n",
        "test_pos = data_pos[50:]"
      ],
      "metadata": {
        "id": "JHhHWAIhfXmn"
      },
      "execution_count": 12,
      "outputs": []
    },
    {
      "cell_type": "code",
      "source": [
        "print(f'TRAIN:\\n positive reviews - {len(train_pos)}; negative reviews - {len(train_neg)}')\n",
        "print('\\n')\n",
        "print(f'TEST:\\n positive reviews - {len(test_pos)}; negative reviews - {len(test_neg)}')"
      ],
      "metadata": {
        "colab": {
          "base_uri": "https://localhost:8080/"
        },
        "id": "LgdEkO-5gRzA",
        "outputId": "478065d0-cbc9-48cf-dc61-13a807fa80f9"
      },
      "execution_count": 13,
      "outputs": [
        {
          "output_type": "stream",
          "name": "stdout",
          "text": [
            "TRAIN:\n",
            " positive reviews - 50; negative reviews - 50\n",
            "\n",
            "\n",
            "TEST:\n",
            " positive reviews - 9; negative reviews - 9\n"
          ]
        }
      ]
    },
    {
      "cell_type": "markdown",
      "source": [
        "#### Обработка текста"
      ],
      "metadata": {
        "id": "wc-cbghQhhjN"
      }
    },
    {
      "cell_type": "code",
      "source": [
        "def preprocessing(text):\n",
        "\n",
        "  # токенизация\n",
        "  tokens = nltk.word_tokenize(text)\n",
        "\n",
        "  # убираем знаки препинания, всё что не слова + приводим к нижнему регистру\n",
        "  tokens = [w.lower() for w in tokens if w.isalpha()]\n",
        "\n",
        "  # убираем все стоп-слова\n",
        "  russian_stopwords = stopwords.words(\"russian\")\n",
        "  tokens = [w for w in tokens if w not in russian_stopwords]\n",
        "\n",
        "  # убираем слова, написанные латиницей (поскольку это часто названия, они не имеют значения для классификации)\n",
        "  new_tokens = []\n",
        "  for word in tokens:\n",
        "    counter = 0\n",
        "    for char in word:\n",
        "      if char in 'qwertyuiopasdfghjklzxcvbnm':\n",
        "        counter += 1\n",
        "    if counter == 0:\n",
        "      new_tokens.append(word)\n",
        "\n",
        "  preprocessed_text = \" \".join(new_tokens)\n",
        "  return preprocessed_text"
      ],
      "metadata": {
        "id": "p94ssVMOgeSJ"
      },
      "execution_count": 26,
      "outputs": []
    },
    {
      "cell_type": "code",
      "source": [
        "train_neg['Текст'] = train_neg['Отзыв'].apply(preprocessing)\n",
        "train_pos['Текст'] = train_pos['Отзыв'].apply(preprocessing)"
      ],
      "metadata": {
        "id": "MTdfGC91iHtw"
      },
      "execution_count": null,
      "outputs": []
    },
    {
      "cell_type": "code",
      "source": [
        "def lemmatize(text):\n",
        "\n",
        "  tokens = text.split(' ')\n",
        "\n",
        "  # начальная форма\n",
        "  morph = MorphAnalyzer()\n",
        "  for i, w in enumerate(tokens):\n",
        "    ana = morph.parse(w)\n",
        "    first = ana[0].normal_form  # лемма\n",
        "    tokens[i] = first\n",
        "\n",
        "  lemmatized_text = \" \".join(tokens)\n",
        "\n",
        "  return lemmatized_text"
      ],
      "metadata": {
        "id": "eAEeeuUnk63Z"
      },
      "execution_count": 16,
      "outputs": []
    },
    {
      "cell_type": "code",
      "source": [
        "train_neg['Леммы'] = train_neg['Текст'].apply(lemmatize)\n",
        "train_pos['Леммы'] = train_pos['Текст'].apply(lemmatize)"
      ],
      "metadata": {
        "id": "rnPsNZCblJiG"
      },
      "execution_count": null,
      "outputs": []
    },
    {
      "cell_type": "markdown",
      "source": [
        "#### Частотные слова в положительных и отрицательных отзывах"
      ],
      "metadata": {
        "id": "foEwaryQll84"
      }
    },
    {
      "cell_type": "code",
      "source": [
        "# функция для подсчета самых частых слов в отзывах\n",
        "def frequency_counter(reviews, max_len):\n",
        "    frequencies = Counter()\n",
        "    for review in reviews:\n",
        "      words = nltk.word_tokenize(review.lower())\n",
        "      for word in words:\n",
        "        if word.isalpha():\n",
        "          frequencies[word] += 1\n",
        "    return dict(frequencies.most_common(max_len))"
      ],
      "metadata": {
        "id": "0Ueg8RnolVOz"
      },
      "execution_count": 18,
      "outputs": []
    },
    {
      "cell_type": "code",
      "source": [
        "neg_freqlist = frequency_counter(train_neg['Леммы'], 500)\n",
        "pos_freqlist = frequency_counter(train_pos['Леммы'], 500)"
      ],
      "metadata": {
        "id": "E6jDDKd0l3lS"
      },
      "execution_count": 57,
      "outputs": []
    },
    {
      "cell_type": "code",
      "source": [
        "# находим уникальные слова в положительных и отрицательных отзывах\n",
        "neg_set = set(neg_freqlist.keys())\n",
        "pos_set = set(pos_freqlist.keys())\n",
        "neg_unique = neg_set - pos_set\n",
        "pos_unique = pos_set - neg_set"
      ],
      "metadata": {
        "id": "sPE5eFCSz9Ku"
      },
      "execution_count": 58,
      "outputs": []
    },
    {
      "cell_type": "code",
      "source": [
        "# составляем словарь, в котором ключи - тональность отзыва, а значения - список самых частых слов в отзывах этого класса\n",
        "frequency_dict = {}\n",
        "frequency_dict['positive'] = pos_unique\n",
        "frequency_dict['negative'] = neg_unique"
      ],
      "metadata": {
        "id": "85iVsFpb6u_a"
      },
      "execution_count": 59,
      "outputs": []
    },
    {
      "cell_type": "markdown",
      "source": [
        "#### Результаты"
      ],
      "metadata": {
        "id": "DwS58CL9y12C"
      }
    },
    {
      "cell_type": "code",
      "source": [
        "# обрабатываем отзывы\n",
        "test = pd.concat([test_neg, test_pos])\n",
        "test['Текст'] = test['Отзыв'].apply(preprocessing)\n",
        "test['Леммы'] = test['Текст'].apply(lemmatize)"
      ],
      "metadata": {
        "id": "QZfoZi8C9Zou"
      },
      "execution_count": 22,
      "outputs": []
    },
    {
      "cell_type": "code",
      "source": [
        "# функция для определения тональности отзыва\n",
        "def sentiment_detector(freqdict, review):\n",
        "    counts = Counter()\n",
        "    # подсчитываем, как много слов в отзыве встречаются в neg_unique либо в pos_unique\n",
        "    for sentiment, unique_words in freqdict.items():\n",
        "        unique_words = Counter(unique_words)\n",
        "        for word in nltk.word_tokenize(review):\n",
        "          if unique_words[word] > 0:\n",
        "            counts[sentiment] += 1\n",
        "    return counts.most_common()"
      ],
      "metadata": {
        "id": "GojXvF6v1Uvq"
      },
      "execution_count": 23,
      "outputs": []
    },
    {
      "cell_type": "code",
      "source": [
        "predictions = []\n",
        "for review in test['Леммы']:\n",
        "  predictions.append(sentiment_detector(frequency_dict, review))"
      ],
      "metadata": {
        "id": "cmjPxGv79QuP"
      },
      "execution_count": 60,
      "outputs": []
    },
    {
      "cell_type": "code",
      "source": [
        "predicted_y = [pred[0][0] for pred in predictions]\n",
        "predicted_y = [0 if y == 'negative' else 1 for y in predicted_y]\n",
        "true_y = test['Класс'].tolist()\n",
        "\n",
        "print(\"Accuracy: %.4f\" % accuracy_score(predicted_y, true_y))"
      ],
      "metadata": {
        "colab": {
          "base_uri": "https://localhost:8080/"
        },
        "id": "I-lrTdz9-xgJ",
        "outputId": "c5784d61-1172-4ba2-a91e-41b756383289"
      },
      "execution_count": 61,
      "outputs": [
        {
          "output_type": "stream",
          "name": "stdout",
          "text": [
            "Accuracy: 0.8889\n"
          ]
        }
      ]
    },
    {
      "cell_type": "markdown",
      "source": [
        "Я поэкспереминтировала с количеством наиболее распространенных слов, которое выдает функция frequency_counter. Качество работы данного алгоритма зависит от этого параметра, ср.:\n",
        "\n",
        "- n = 1000, accuracy = 0.5556\n",
        "- n = 500 или n = 400, accuracy = 0.8889 - лучший результат\n",
        "- n = 300, accuracy = 0.7222\n",
        "- n = 200, accuracy = 0.8333\n",
        "- n = 100, accuracy = 0.6667\n",
        "- n = None, accuracy = 0.6667"
      ],
      "metadata": {
        "id": "A5WwxMwXAcwl"
      }
    },
    {
      "cell_type": "markdown",
      "source": [
        "#### Как можно улучшить этот результат?"
      ],
      "metadata": {
        "id": "8qPBK19oYPjO"
      }
    },
    {
      "cell_type": "markdown",
      "source": [
        "- Считать не слова, а n-граммы, а так же не убирать стоп-слова. В этих отзывах часто встречаются похожие выражения и в отрицательных, и в положительных отзывах, например, \"отдает рыжиной\"/\"не отдает рыжиной\" или \"подчеркивает высыпания\"/\"не подчеркивает высыпания\". При подсчете частотности отдельных слов эта информация упускается;\n",
        "\n",
        "- Векторизовать текст с помощью, например, Tf-idf и обучить логистическую регрессию для дальнейшей классификации тестовых данных"
      ],
      "metadata": {
        "id": "msbxx0S7YTd4"
      }
    }
  ]
}