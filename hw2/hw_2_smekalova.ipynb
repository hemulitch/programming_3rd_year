{
  "cells": [
    {
      "cell_type": "code",
      "execution_count": null,
      "metadata": {
        "id": "1BubkNtBd9jA"
      },
      "outputs": [],
      "source": [
        "! pip install pymystem3\n",
        "! pip install pymorphy2\n",
        "! pip install stanza"
      ]
    },
    {
      "cell_type": "markdown",
      "metadata": {
        "id": "918fjwdxVA_N"
      },
      "source": [
        "### Импорты"
      ]
    },
    {
      "cell_type": "code",
      "execution_count": 3,
      "metadata": {
        "colab": {
          "base_uri": "https://localhost:8080/"
        },
        "id": "kBv6gDIptUHS",
        "outputId": "908ee3d2-2b3e-4fde-fbca-42d69a27f80b"
      },
      "outputs": [
        {
          "output_type": "stream",
          "name": "stderr",
          "text": [
            "[nltk_data] Downloading package punkt to /root/nltk_data...\n",
            "[nltk_data]   Package punkt is already up-to-date!\n"
          ]
        }
      ],
      "source": [
        "import pandas as pd\n",
        "from nltk import sent_tokenize, word_tokenize\n",
        "import nltk\n",
        "nltk.download('punkt')\n",
        "\n",
        "# pos-taggers\n",
        "from pymystem3 import Mystem\n",
        "from pymorphy2 import MorphAnalyzer\n",
        "import stanza\n",
        "\n",
        "# evaluating results\n",
        "from sklearn.metrics import accuracy_score\n",
        "from sklearn.metrics import confusion_matrix\n",
        "import matplotlib.pyplot as plt\n",
        "import numpy as np"
      ]
    },
    {
      "cell_type": "markdown",
      "metadata": {
        "id": "ZEYxZTZStU1j"
      },
      "source": [
        "### Создание и разметка корпуса"
      ]
    },
    {
      "cell_type": "code",
      "execution_count": 4,
      "metadata": {
        "colab": {
          "base_uri": "https://localhost:8080/"
        },
        "id": "G8VOhl3TUgnA",
        "outputId": "f51f4288-3b52-4312-8b31-19f619daa1a6"
      },
      "outputs": [
        {
          "output_type": "stream",
          "name": "stdout",
          "text": [
            "Cloning into 'programming_3rd_year'...\n",
            "remote: Enumerating objects: 111, done.\u001b[K\n",
            "remote: Counting objects: 100% (22/22), done.\u001b[K\n",
            "remote: Compressing objects: 100% (22/22), done.\u001b[K\n",
            "remote: Total 111 (delta 5), reused 0 (delta 0), pack-reused 89\u001b[K\n",
            "Receiving objects: 100% (111/111), 1.22 MiB | 3.21 MiB/s, done.\n",
            "Resolving deltas: 100% (17/17), done.\n"
          ]
        }
      ],
      "source": [
        "! git clone https://github.com/hemulitch/programming_3rd_year"
      ]
    },
    {
      "cell_type": "code",
      "execution_count": null,
      "metadata": {
        "id": "RSjnLuUkVb3d"
      },
      "outputs": [],
      "source": [
        "with open('/content/programming_3rd_year/hw2/corpus.txt', 'r', encoding='utf-8') as f:\n",
        "  corpus = f.readlines()"
      ]
    },
    {
      "cell_type": "markdown",
      "metadata": {
        "id": "tCpMD8ugHwV0"
      },
      "source": [
        "Я вручную собрала коллекцию предложений, каждое из которых может представлять интерес для pos-теггинга. Например:"
      ]
    },
    {
      "cell_type": "code",
      "execution_count": null,
      "metadata": {
        "colab": {
          "base_uri": "https://localhost:8080/"
        },
        "id": "vpFWC2-NIAfN",
        "outputId": "54583911-b03d-4cb4-e448-93ff6eeaa8d0"
      },
      "outputs": [
        {
          "name": "stdout",
          "output_type": "stream",
          "text": [
            "Сапфировое стекло и корпус из желтого золота держит ремешок из крокодиловой кожи\n",
            "\n",
            "Но с Крохина обидное прозвище стекло как с гуся вода.\n",
            "\n"
          ]
        }
      ],
      "source": [
        "# предложения с омонимами - например, со словоформой стекло (NOUN/VERB)\n",
        "print(corpus[0])\n",
        "print(corpus[1])"
      ]
    },
    {
      "cell_type": "code",
      "execution_count": null,
      "metadata": {
        "colab": {
          "base_uri": "https://localhost:8080/"
        },
        "id": "6-sMVJMVIRnJ",
        "outputId": "6ace0797-2a73-49d5-cbae-556eba0b9cfd"
      },
      "outputs": [
        {
          "name": "stdout",
          "output_type": "stream",
          "text": [
            "И, само собой, продажи Дали не идут ни в какое сравнение с продажами Пикассо.\n",
            "\n",
            "Приёмные комиссии были созданы в Горьком, Киеве, Ленинграде, Москве и Тбилиси. \n",
            "\n",
            "Настоящей жемчужиной в творчестве Мамина-Сибиряка стал роман «Приваловские миллионы».\n",
            "\n"
          ]
        }
      ],
      "source": [
        "#предложения с именами собственными, которые могут быть интерпретированы как форма глагола/прилагательное\n",
        "print(corpus[10])\n",
        "print(corpus[14])\n",
        "print(corpus[18])"
      ]
    },
    {
      "cell_type": "code",
      "execution_count": null,
      "metadata": {
        "colab": {
          "base_uri": "https://localhost:8080/"
        },
        "id": "BiokAFePItIV",
        "outputId": "379a993c-2efa-4807-e4a7-d66271499124"
      },
      "outputs": [
        {
          "name": "stdout",
          "output_type": "stream",
          "text": [
            "Ольга отметилась во многих популярных сериалах 2000-х годов, таких как «Солдаты», «Моя прекрасная няня», «Ранетки», «Воронины», «Папины дочки». В последнем она сыграла роль Изольды Анатольевны, инспектора РОНО (в трех сериях).\n",
            "\n",
            "Ряд учёных из Германии, Италии, Франции, Швеции, США, Китая, Кореи удостоены звания почётного профессора и доктора СПбГТИ (ТУ).\n",
            "\n"
          ]
        }
      ],
      "source": [
        "# предложения с аббревиатурами\n",
        "print(corpus[16])\n",
        "print(corpus[17])"
      ]
    },
    {
      "cell_type": "code",
      "execution_count": null,
      "metadata": {
        "colab": {
          "base_uri": "https://localhost:8080/"
        },
        "id": "T2GyLzQ1I7wn",
        "outputId": "03585ede-2116-4c47-9dd6-b4d9f20d49a5"
      },
      "outputs": [
        {
          "name": "stdout",
          "output_type": "stream",
          "text": [
            "Нынче словом не пофанфороните – шею крючь да спину гни. На вершочном незаметном фронте завоёвываются дни.\n",
            "\n"
          ]
        }
      ],
      "source": [
        "# предложения с авторскими неологизмами, которых нет в словарях\n",
        "print(corpus[13])"
      ]
    },
    {
      "cell_type": "code",
      "execution_count": null,
      "metadata": {
        "id": "wVSJNPPb6XDb"
      },
      "outputs": [],
      "source": [
        "# разобьем каждый мини-текст в списке corpus на предложения\n",
        "sentences = []\n",
        "for text in corpus:\n",
        "  sents = sent_tokenize(text)\n",
        "  sentences += sents"
      ]
    },
    {
      "cell_type": "code",
      "execution_count": null,
      "metadata": {
        "colab": {
          "base_uri": "https://localhost:8080/",
          "height": 204
        },
        "id": "sy8UP2O7cw0e",
        "outputId": "216300e7-9b8c-4cf7-a643-cb92a264c2d3"
      },
      "outputs": [
        {
          "data": {
            "text/html": [
              "\n",
              "  <div id=\"df-a1ede8c9-0ad2-4987-bb41-e2d7fe3c78a5\" class=\"colab-df-container\">\n",
              "    <div>\n",
              "<style scoped>\n",
              "    .dataframe tbody tr th:only-of-type {\n",
              "        vertical-align: middle;\n",
              "    }\n",
              "\n",
              "    .dataframe tbody tr th {\n",
              "        vertical-align: top;\n",
              "    }\n",
              "\n",
              "    .dataframe thead th {\n",
              "        text-align: right;\n",
              "    }\n",
              "</style>\n",
              "<table border=\"1\" class=\"dataframe\">\n",
              "  <thead>\n",
              "    <tr style=\"text-align: right;\">\n",
              "      <th></th>\n",
              "      <th>token</th>\n",
              "      <th>tag</th>\n",
              "    </tr>\n",
              "  </thead>\n",
              "  <tbody>\n",
              "    <tr>\n",
              "      <th>0</th>\n",
              "      <td>сапфировое</td>\n",
              "      <td>ADJ</td>\n",
              "    </tr>\n",
              "    <tr>\n",
              "      <th>1</th>\n",
              "      <td>стекло</td>\n",
              "      <td>NOUN</td>\n",
              "    </tr>\n",
              "    <tr>\n",
              "      <th>2</th>\n",
              "      <td>и</td>\n",
              "      <td>CONJ</td>\n",
              "    </tr>\n",
              "    <tr>\n",
              "      <th>3</th>\n",
              "      <td>корпус</td>\n",
              "      <td>NOUN</td>\n",
              "    </tr>\n",
              "    <tr>\n",
              "      <th>4</th>\n",
              "      <td>из</td>\n",
              "      <td>ADP</td>\n",
              "    </tr>\n",
              "  </tbody>\n",
              "</table>\n",
              "</div>\n",
              "    <div class=\"colab-df-buttons\">\n",
              "\n",
              "  <div class=\"colab-df-container\">\n",
              "    <button class=\"colab-df-convert\" onclick=\"convertToInteractive('df-a1ede8c9-0ad2-4987-bb41-e2d7fe3c78a5')\"\n",
              "            title=\"Convert this dataframe to an interactive table.\"\n",
              "            style=\"display:none;\">\n",
              "\n",
              "  <svg xmlns=\"http://www.w3.org/2000/svg\" height=\"24px\" viewBox=\"0 -960 960 960\">\n",
              "    <path d=\"M120-120v-720h720v720H120Zm60-500h600v-160H180v160Zm220 220h160v-160H400v160Zm0 220h160v-160H400v160ZM180-400h160v-160H180v160Zm440 0h160v-160H620v160ZM180-180h160v-160H180v160Zm440 0h160v-160H620v160Z\"/>\n",
              "  </svg>\n",
              "    </button>\n",
              "\n",
              "  <style>\n",
              "    .colab-df-container {\n",
              "      display:flex;\n",
              "      gap: 12px;\n",
              "    }\n",
              "\n",
              "    .colab-df-convert {\n",
              "      background-color: #E8F0FE;\n",
              "      border: none;\n",
              "      border-radius: 50%;\n",
              "      cursor: pointer;\n",
              "      display: none;\n",
              "      fill: #1967D2;\n",
              "      height: 32px;\n",
              "      padding: 0 0 0 0;\n",
              "      width: 32px;\n",
              "    }\n",
              "\n",
              "    .colab-df-convert:hover {\n",
              "      background-color: #E2EBFA;\n",
              "      box-shadow: 0px 1px 2px rgba(60, 64, 67, 0.3), 0px 1px 3px 1px rgba(60, 64, 67, 0.15);\n",
              "      fill: #174EA6;\n",
              "    }\n",
              "\n",
              "    .colab-df-buttons div {\n",
              "      margin-bottom: 4px;\n",
              "    }\n",
              "\n",
              "    [theme=dark] .colab-df-convert {\n",
              "      background-color: #3B4455;\n",
              "      fill: #D2E3FC;\n",
              "    }\n",
              "\n",
              "    [theme=dark] .colab-df-convert:hover {\n",
              "      background-color: #434B5C;\n",
              "      box-shadow: 0px 1px 3px 1px rgba(0, 0, 0, 0.15);\n",
              "      filter: drop-shadow(0px 1px 2px rgba(0, 0, 0, 0.3));\n",
              "      fill: #FFFFFF;\n",
              "    }\n",
              "  </style>\n",
              "\n",
              "    <script>\n",
              "      const buttonEl =\n",
              "        document.querySelector('#df-a1ede8c9-0ad2-4987-bb41-e2d7fe3c78a5 button.colab-df-convert');\n",
              "      buttonEl.style.display =\n",
              "        google.colab.kernel.accessAllowed ? 'block' : 'none';\n",
              "\n",
              "      async function convertToInteractive(key) {\n",
              "        const element = document.querySelector('#df-a1ede8c9-0ad2-4987-bb41-e2d7fe3c78a5');\n",
              "        const dataTable =\n",
              "          await google.colab.kernel.invokeFunction('convertToInteractive',\n",
              "                                                    [key], {});\n",
              "        if (!dataTable) return;\n",
              "\n",
              "        const docLinkHtml = 'Like what you see? Visit the ' +\n",
              "          '<a target=\"_blank\" href=https://colab.research.google.com/notebooks/data_table.ipynb>data table notebook</a>'\n",
              "          + ' to learn more about interactive tables.';\n",
              "        element.innerHTML = '';\n",
              "        dataTable['output_type'] = 'display_data';\n",
              "        await google.colab.output.renderOutput(dataTable, element);\n",
              "        const docLink = document.createElement('div');\n",
              "        docLink.innerHTML = docLinkHtml;\n",
              "        element.appendChild(docLink);\n",
              "      }\n",
              "    </script>\n",
              "  </div>\n",
              "\n",
              "\n",
              "<div id=\"df-2bfc953f-10c6-4c2d-b0ba-954b6b6fa1c9\">\n",
              "  <button class=\"colab-df-quickchart\" onclick=\"quickchart('df-2bfc953f-10c6-4c2d-b0ba-954b6b6fa1c9')\"\n",
              "            title=\"Suggest charts.\"\n",
              "            style=\"display:none;\">\n",
              "\n",
              "<svg xmlns=\"http://www.w3.org/2000/svg\" height=\"24px\"viewBox=\"0 0 24 24\"\n",
              "     width=\"24px\">\n",
              "    <g>\n",
              "        <path d=\"M19 3H5c-1.1 0-2 .9-2 2v14c0 1.1.9 2 2 2h14c1.1 0 2-.9 2-2V5c0-1.1-.9-2-2-2zM9 17H7v-7h2v7zm4 0h-2V7h2v10zm4 0h-2v-4h2v4z\"/>\n",
              "    </g>\n",
              "</svg>\n",
              "  </button>\n",
              "\n",
              "<style>\n",
              "  .colab-df-quickchart {\n",
              "      --bg-color: #E8F0FE;\n",
              "      --fill-color: #1967D2;\n",
              "      --hover-bg-color: #E2EBFA;\n",
              "      --hover-fill-color: #174EA6;\n",
              "      --disabled-fill-color: #AAA;\n",
              "      --disabled-bg-color: #DDD;\n",
              "  }\n",
              "\n",
              "  [theme=dark] .colab-df-quickchart {\n",
              "      --bg-color: #3B4455;\n",
              "      --fill-color: #D2E3FC;\n",
              "      --hover-bg-color: #434B5C;\n",
              "      --hover-fill-color: #FFFFFF;\n",
              "      --disabled-bg-color: #3B4455;\n",
              "      --disabled-fill-color: #666;\n",
              "  }\n",
              "\n",
              "  .colab-df-quickchart {\n",
              "    background-color: var(--bg-color);\n",
              "    border: none;\n",
              "    border-radius: 50%;\n",
              "    cursor: pointer;\n",
              "    display: none;\n",
              "    fill: var(--fill-color);\n",
              "    height: 32px;\n",
              "    padding: 0;\n",
              "    width: 32px;\n",
              "  }\n",
              "\n",
              "  .colab-df-quickchart:hover {\n",
              "    background-color: var(--hover-bg-color);\n",
              "    box-shadow: 0 1px 2px rgba(60, 64, 67, 0.3), 0 1px 3px 1px rgba(60, 64, 67, 0.15);\n",
              "    fill: var(--button-hover-fill-color);\n",
              "  }\n",
              "\n",
              "  .colab-df-quickchart-complete:disabled,\n",
              "  .colab-df-quickchart-complete:disabled:hover {\n",
              "    background-color: var(--disabled-bg-color);\n",
              "    fill: var(--disabled-fill-color);\n",
              "    box-shadow: none;\n",
              "  }\n",
              "\n",
              "  .colab-df-spinner {\n",
              "    border: 2px solid var(--fill-color);\n",
              "    border-color: transparent;\n",
              "    border-bottom-color: var(--fill-color);\n",
              "    animation:\n",
              "      spin 1s steps(1) infinite;\n",
              "  }\n",
              "\n",
              "  @keyframes spin {\n",
              "    0% {\n",
              "      border-color: transparent;\n",
              "      border-bottom-color: var(--fill-color);\n",
              "      border-left-color: var(--fill-color);\n",
              "    }\n",
              "    20% {\n",
              "      border-color: transparent;\n",
              "      border-left-color: var(--fill-color);\n",
              "      border-top-color: var(--fill-color);\n",
              "    }\n",
              "    30% {\n",
              "      border-color: transparent;\n",
              "      border-left-color: var(--fill-color);\n",
              "      border-top-color: var(--fill-color);\n",
              "      border-right-color: var(--fill-color);\n",
              "    }\n",
              "    40% {\n",
              "      border-color: transparent;\n",
              "      border-right-color: var(--fill-color);\n",
              "      border-top-color: var(--fill-color);\n",
              "    }\n",
              "    60% {\n",
              "      border-color: transparent;\n",
              "      border-right-color: var(--fill-color);\n",
              "    }\n",
              "    80% {\n",
              "      border-color: transparent;\n",
              "      border-right-color: var(--fill-color);\n",
              "      border-bottom-color: var(--fill-color);\n",
              "    }\n",
              "    90% {\n",
              "      border-color: transparent;\n",
              "      border-bottom-color: var(--fill-color);\n",
              "    }\n",
              "  }\n",
              "</style>\n",
              "\n",
              "  <script>\n",
              "    async function quickchart(key) {\n",
              "      const quickchartButtonEl =\n",
              "        document.querySelector('#' + key + ' button');\n",
              "      quickchartButtonEl.disabled = true;  // To prevent multiple clicks.\n",
              "      quickchartButtonEl.classList.add('colab-df-spinner');\n",
              "      try {\n",
              "        const charts = await google.colab.kernel.invokeFunction(\n",
              "            'suggestCharts', [key], {});\n",
              "      } catch (error) {\n",
              "        console.error('Error during call to suggestCharts:', error);\n",
              "      }\n",
              "      quickchartButtonEl.classList.remove('colab-df-spinner');\n",
              "      quickchartButtonEl.classList.add('colab-df-quickchart-complete');\n",
              "    }\n",
              "    (() => {\n",
              "      let quickchartButtonEl =\n",
              "        document.querySelector('#df-2bfc953f-10c6-4c2d-b0ba-954b6b6fa1c9 button');\n",
              "      quickchartButtonEl.style.display =\n",
              "        google.colab.kernel.accessAllowed ? 'block' : 'none';\n",
              "    })();\n",
              "  </script>\n",
              "</div>\n",
              "    </div>\n",
              "  </div>\n"
            ],
            "text/plain": [
              "        token   tag\n",
              "0  сапфировое   ADJ\n",
              "1      стекло  NOUN\n",
              "2           и  CONJ\n",
              "3      корпус  NOUN\n",
              "4          из   ADP"
            ]
          },
          "execution_count": 10,
          "metadata": {},
          "output_type": "execute_result"
        }
      ],
      "source": [
        "# заранее размеченный датасет\n",
        "data = pd.read_csv('/content/programming_3rd_year/hw2/corpus.csv', delimiter=';')\n",
        "data.head()"
      ]
    },
    {
      "cell_type": "code",
      "execution_count": null,
      "metadata": {
        "colab": {
          "base_uri": "https://localhost:8080/"
        },
        "id": "1cIRe7SDdggJ",
        "outputId": "fdfb6f1d-c34e-4a4a-e9a6-61c8d16724fb"
      },
      "outputs": [
        {
          "name": "stdout",
          "output_type": "stream",
          "text": [
            "NOUN CONJ INTJ NUM ADJ VERB ADV ADP PRON PART\n"
          ]
        }
      ],
      "source": [
        "# набор тегов в моей разметке\n",
        "true_tags = data['tag'].values\n",
        "print(\" \".join(set(true_tags)))"
      ]
    },
    {
      "cell_type": "markdown",
      "metadata": {
        "id": "Z2DYFT9pJx53"
      },
      "source": [
        "При разметке я решила использовать набор тегов [universal pos tags](https://universaldependencies.org/u/pos/), поскольку он используется в большей части POS теггеров, упомянутых в задании, за исключением pymorphy и mystem. При этом мне было интересно сравнить возможности pymorphy и mystem с POS теггером, использующим universal pos теги, поэтому я внесла в набор тегов некоторые модификации, такие, чтобы было удобнее конвертировать результаты в единый формат, а именно:\n",
        "\n",
        "- использовала тег CONJ вместо SCONJ и CCONJ для союзов, поскольку в pymorphy и mystem они не различаются\n",
        "- не использовала тег AUX, поскольку в pymorphy и mystem AUX и VERB не различаются\n",
        "- не использовала тег PROPN, поскольку в pymorphy и mystem нет отдельных тегов для имен собственных\n"
      ]
    },
    {
      "cell_type": "markdown",
      "metadata": {
        "id": "g7gPdJc-hK-i"
      },
      "source": [
        "### POS-теггеры"
      ]
    },
    {
      "cell_type": "markdown",
      "metadata": {
        "id": "h-W2tDlne-6Y"
      },
      "source": [
        "#### 1. pymorphy"
      ]
    },
    {
      "cell_type": "code",
      "execution_count": null,
      "metadata": {
        "id": "jgHtOeyydxuX"
      },
      "outputs": [],
      "source": [
        "morph = MorphAnalyzer()"
      ]
    },
    {
      "cell_type": "markdown",
      "metadata": {
        "id": "aIPr17EHfGBy"
      },
      "source": [
        "Pymorphy умеет обрабатывать только одно слово, не учитывая контекст, поэтому будем токенизировать предложение с помощью метода word_tokenize и искать часть речи для каждого получившегося токена:"
      ]
    },
    {
      "cell_type": "code",
      "execution_count": null,
      "metadata": {
        "id": "brTwqtwjfVCT"
      },
      "outputs": [],
      "source": [
        "pymorphy_tokens = []\n",
        "pymorphy_tags = []\n",
        "for sentence in sentences:\n",
        "  tokens = word_tokenize(sentence)\n",
        "  for token in tokens:\n",
        "    tag = morph.parse(token)[0].tag.POS\n",
        "    pymorphy_tokens.append(token)\n",
        "    pymorphy_tags.append(tag)"
      ]
    },
    {
      "cell_type": "markdown",
      "metadata": {
        "id": "CZisvhm9guGY"
      },
      "source": [
        "#### 2. Mystem\n"
      ]
    },
    {
      "cell_type": "code",
      "execution_count": null,
      "metadata": {
        "colab": {
          "base_uri": "https://localhost:8080/"
        },
        "id": "vPA_fMsF46Ii",
        "outputId": "c180ffa8-bb4b-4ba0-90bf-a8c2ef273b37"
      },
      "outputs": [
        {
          "name": "stderr",
          "output_type": "stream",
          "text": [
            "Installing mystem to /root/.local/bin/mystem from http://download.cdn.yandex.net/mystem/mystem-3.1-linux-64bit.tar.gz\n"
          ]
        }
      ],
      "source": [
        "mystem = Mystem()\n",
        "mystem_tokens = []\n",
        "mystem_tags = []\n",
        "for sentence in sentences:\n",
        "  ana = mystem.analyze(sentence)\n",
        "  for token in ana:\n",
        "    if 'analysis' in token:\n",
        "        grammar = token['analysis'][0]['gr']\n",
        "        tag = grammar.split('=')[0].split(',')[0]\n",
        "        t = token['text']\n",
        "        mystem_tokens.append(t)\n",
        "        mystem_tags.append(tag)"
      ]
    },
    {
      "cell_type": "markdown",
      "metadata": {
        "id": "Rl-XHpSj3ynC"
      },
      "source": [
        "#### 3. Stanza"
      ]
    },
    {
      "cell_type": "code",
      "execution_count": null,
      "metadata": {
        "colab": {
          "base_uri": "https://localhost:8080/",
          "height": 658,
          "referenced_widgets": [
            "de26a7af1ee649008e2a1d1c6855b89b",
            "5f32b2ed80104c4a8cfac7353f6dc975",
            "798da7f682d54ff194a02087c91147d0",
            "3291d8b4f531490fb7de695d168c9732",
            "7ebdbf32fb0247409e2dc3324c796042",
            "5eb6d60ae92f43feba7141b74be436ec",
            "389a89e5a84e443d8ef11888dfc6cd22",
            "6a68afc380a54e48a6190c8d82aecf93",
            "e511330ffdc24dae94bada58400abbc3",
            "d72d2f1803d445158a1b1531e75a4ef8",
            "30d2712244af478f9652ca9a7047fc56",
            "b6dbb4527b264573bc17791f2a3e6454",
            "6c5be5062cd248d9a7665306cdfab658",
            "e7f2873f0916439b8387a5db0ff2bbd3",
            "fdd6df7691a04861b7bc8968b181d21f",
            "cf137153102246fd9fdbdd5345aaf0fd",
            "d74b862b31de47be97d33680b581ea26",
            "15b68b3e993d449a8168fdfb51d9dee6",
            "5ef3d429831a4f54adf6e3a6df80701f",
            "841127542d0246219a777740b33e5fcd",
            "61cdac3084ba42ecb831db5e3f120b25",
            "baa75d620cf24d278cbfb1598fc8176f",
            "0ad87b052fbc4c76b4d0b308b4443fa4",
            "46e57823593f4dbcae1a94f8351b03d2",
            "7068108bdb5a47899cc3144eb34bfba9",
            "24254a9333fa4964beb6cebb897912ce",
            "4b46c62a993247778337d1d3ee4332b7",
            "17468345e55c414bb9a912cb50cf1a5b",
            "2b32118cd8fd4af8aa83049fb9629aab",
            "0bf10a17464848d1b5153ba4fa6539e6",
            "44955250be314af2a9fe0ad9fe923536",
            "4fdbe041e4274d20a6b62812545c2f2d",
            "e884823cac914fecba59a19e6af2f055"
          ]
        },
        "id": "YiUMbEHahUZ3",
        "outputId": "be322cb2-de12-4e0c-b9ce-f99c4a5d3ecb"
      },
      "outputs": [
        {
          "data": {
            "application/vnd.jupyter.widget-view+json": {
              "model_id": "de26a7af1ee649008e2a1d1c6855b89b",
              "version_major": 2,
              "version_minor": 0
            },
            "text/plain": [
              "Downloading https://raw.githubusercontent.com/stanfordnlp/stanza-resources/main/resources_1.6.0.json:   0%|   …"
            ]
          },
          "metadata": {},
          "output_type": "display_data"
        },
        {
          "name": "stderr",
          "output_type": "stream",
          "text": [
            "INFO:stanza:Downloading default packages for language: ru (Russian) ...\n"
          ]
        },
        {
          "data": {
            "application/vnd.jupyter.widget-view+json": {
              "model_id": "b6dbb4527b264573bc17791f2a3e6454",
              "version_major": 2,
              "version_minor": 0
            },
            "text/plain": [
              "Downloading https://huggingface.co/stanfordnlp/stanza-ru/resolve/v1.6.0/models/default.zip:   0%|          | 0…"
            ]
          },
          "metadata": {},
          "output_type": "display_data"
        },
        {
          "name": "stderr",
          "output_type": "stream",
          "text": [
            "INFO:stanza:Finished downloading models and saved to /root/stanza_resources.\n",
            "INFO:stanza:Checking for updates to resources.json in case models have been updated.  Note: this behavior can be turned off with download_method=None or download_method=DownloadMethod.REUSE_RESOURCES\n"
          ]
        },
        {
          "data": {
            "application/vnd.jupyter.widget-view+json": {
              "model_id": "0ad87b052fbc4c76b4d0b308b4443fa4",
              "version_major": 2,
              "version_minor": 0
            },
            "text/plain": [
              "Downloading https://raw.githubusercontent.com/stanfordnlp/stanza-resources/main/resources_1.6.0.json:   0%|   …"
            ]
          },
          "metadata": {},
          "output_type": "display_data"
        },
        {
          "name": "stderr",
          "output_type": "stream",
          "text": [
            "INFO:stanza:Loading these models for language: ru (Russian):\n",
            "==================================\n",
            "| Processor | Package            |\n",
            "----------------------------------\n",
            "| tokenize  | syntagrus          |\n",
            "| pos       | syntagrus_charlm   |\n",
            "| lemma     | syntagrus_nocharlm |\n",
            "| depparse  | syntagrus_charlm   |\n",
            "| ner       | wikiner            |\n",
            "==================================\n",
            "\n",
            "INFO:stanza:Using device: cpu\n",
            "INFO:stanza:Loading: tokenize\n",
            "INFO:stanza:Loading: pos\n",
            "INFO:stanza:Loading: lemma\n",
            "INFO:stanza:Loading: depparse\n",
            "INFO:stanza:Loading: ner\n",
            "INFO:stanza:Done loading processors!\n"
          ]
        }
      ],
      "source": [
        "stanza.download('ru')\n",
        "nlp = stanza.Pipeline('ru')"
      ]
    },
    {
      "cell_type": "code",
      "execution_count": null,
      "metadata": {
        "id": "4PoNft_j4yFH"
      },
      "outputs": [],
      "source": [
        "stanza_tokens = []\n",
        "stanza_tags = []\n",
        "for sentence in sentences:\n",
        "  ana = nlp(sentence)\n",
        "  tags = [[word.pos for word in sent.words] for sent in ana.sentences]\n",
        "  tokens = [[word.text for word in sent.words] for sent in ana.sentences]\n",
        "  for tag in tags:\n",
        "    stanza_tags += tag\n",
        "  for token in tokens:\n",
        "    stanza_tokens += token"
      ]
    },
    {
      "cell_type": "markdown",
      "metadata": {
        "id": "fNvJRvQseGZn"
      },
      "source": [
        "### Оценка результатов"
      ]
    },
    {
      "cell_type": "markdown",
      "metadata": {
        "id": "faJfrv5ZOHY9"
      },
      "source": [
        "После обработки результатов обнаружилось, что POS теггеры выдали набор тегов разной длины:"
      ]
    },
    {
      "cell_type": "code",
      "execution_count": null,
      "metadata": {
        "colab": {
          "base_uri": "https://localhost:8080/"
        },
        "id": "AS_mlcUS7JXU",
        "outputId": "10b4d4a4-1a66-4f68-d13b-1c77e27b900c"
      },
      "outputs": [
        {
          "name": "stdout",
          "output_type": "stream",
          "text": [
            "Pymorphy: 502\n",
            "Mystem: 400\n",
            "Stanza: 504\n",
            "Должно быть тегов: 398\n"
          ]
        }
      ],
      "source": [
        "print(f'Pymorphy: {len(pymorphy_tags)}')\n",
        "print(f'Mystem: {len(mystem_tags)}')\n",
        "print(f'Stanza: {len(stanza_tags)}')\n",
        "print(f'Должно быть тегов: {len(true_tags)}')"
      ]
    },
    {
      "cell_type": "markdown",
      "metadata": {
        "id": "sZvbN-HXO9xn"
      },
      "source": [
        "Pymorphy попытался определить часть речи у пунктуации, поэтому в списке pymorphy_tags есть много объектов типа None:"
      ]
    },
    {
      "cell_type": "code",
      "execution_count": null,
      "metadata": {
        "id": "23mu6VDtOmOk"
      },
      "outputs": [],
      "source": [
        "clean_pymorphy_tokens = []\n",
        "clean_pymorphy_tags = []\n",
        "for i in range(len(pymorphy_tags)):\n",
        "    if pymorphy_tags[i] != None:\n",
        "      clean_pymorphy_tags.append(pymorphy_tags[i])\n",
        "      clean_pymorphy_tokens.append(pymorphy_tokens[i])"
      ]
    },
    {
      "cell_type": "markdown",
      "metadata": {
        "id": "3Wvgjd7dPRY5"
      },
      "source": [
        "В Stanza для пунктуации встречаем тег PUNCT:"
      ]
    },
    {
      "cell_type": "code",
      "execution_count": null,
      "metadata": {
        "id": "_e-4IjSYOMrg"
      },
      "outputs": [],
      "source": [
        "clean_stanza_tokens = []\n",
        "clean_stanza_tags = []\n",
        "for i in range(len(stanza_tags)):\n",
        "    if stanza_tags[i] != 'PUNCT':\n",
        "      clean_stanza_tags.append(stanza_tags[i])\n",
        "      clean_stanza_tokens.append(stanza_tokens[i])"
      ]
    },
    {
      "cell_type": "markdown",
      "metadata": {
        "id": "mvt2-6HrPmoD"
      },
      "source": [
        "После очистки списков от тегов для пунктуации длина списков всё равно была неодинакова, поэтому я написала функцию, позволяющую посмотреть, где разметка POS теггеров разошлась с моей разметкой:"
      ]
    },
    {
      "cell_type": "code",
      "execution_count": null,
      "metadata": {
        "id": "IoO0KBGWPMca"
      },
      "outputs": [],
      "source": [
        "def differencies(tags, tokens, words):\n",
        "  i = 0\n",
        "  j = 0\n",
        "  while i < len(tags):\n",
        "    if words[j].lower() != tokens[i].lower():\n",
        "      print(words[j], tokens[i], tags[i])\n",
        "      if '2000' not in words[j]:\n",
        "        i += 1\n",
        "    i += 1\n",
        "    j += 1"
      ]
    },
    {
      "cell_type": "markdown",
      "metadata": {
        "id": "zmu0-S5uP1q0"
      },
      "source": [
        "Stanza выделил два токена там, где я выделила один:"
      ]
    },
    {
      "cell_type": "code",
      "execution_count": null,
      "metadata": {
        "colab": {
          "base_uri": "https://localhost:8080/"
        },
        "id": "0BFN4Tm9P1MO",
        "outputId": "7dea84ff-db99-4d8d-9cab-4b17522a343a"
      },
      "outputs": [
        {
          "name": "stdout",
          "output_type": "stream",
          "text": [
            "историко-архивные историко ADJ\n"
          ]
        }
      ],
      "source": [
        "words = data['token'].values\n",
        "differencies(clean_stanza_tags, clean_stanza_tokens, words)"
      ]
    },
    {
      "cell_type": "code",
      "execution_count": null,
      "metadata": {
        "colab": {
          "base_uri": "https://localhost:8080/",
          "height": 37
        },
        "id": "XzwBOKnzTNfB",
        "outputId": "43d5165f-5544-4e1f-ad0e-02e0a44152e6"
      },
      "outputs": [
        {
          "data": {
            "application/vnd.google.colaboratory.intrinsic+json": {
              "type": "string"
            },
            "text/plain": [
              "'историко'"
            ]
          },
          "execution_count": 22,
          "metadata": {},
          "output_type": "execute_result"
        }
      ],
      "source": [
        "clean_stanza_tags.pop(183)\n",
        "clean_stanza_tokens.pop(183)"
      ]
    },
    {
      "cell_type": "markdown",
      "metadata": {
        "id": "41R848DKP9rk"
      },
      "source": [
        "У Mystem-а была такая же ошибка, как у Stanza, и ещё другая ошибка: на месте одного токена (имени собственного - фамилии Мамин-Сибиряк) он выделил два токена (прилагательное мамин и существительное сибиряк)"
      ]
    },
    {
      "cell_type": "code",
      "execution_count": null,
      "metadata": {
        "colab": {
          "base_uri": "https://localhost:8080/"
        },
        "id": "6nWIXGmnSKqi",
        "outputId": "2ab9df18-3a1b-423e-8afa-63bbd3d71dd7"
      },
      "outputs": [
        {
          "name": "stdout",
          "output_type": "stream",
          "text": [
            "историко-архивные историко COM\n",
            "2000-х х S\n",
            "мамина-сибиряка Мамина A\n"
          ]
        }
      ],
      "source": [
        "differencies(mystem_tags, mystem_tokens, words)"
      ]
    },
    {
      "cell_type": "code",
      "execution_count": null,
      "metadata": {
        "colab": {
          "base_uri": "https://localhost:8080/",
          "height": 37
        },
        "id": "RLAdiLS8T1VZ",
        "outputId": "d9cdbf95-c094-4abe-de72-129adf89674c"
      },
      "outputs": [
        {
          "data": {
            "application/vnd.google.colaboratory.intrinsic+json": {
              "type": "string"
            },
            "text/plain": [
              "'историко'"
            ]
          },
          "execution_count": 24,
          "metadata": {},
          "output_type": "execute_result"
        }
      ],
      "source": [
        "#mystem_tokens.index('историко')\n",
        "mystem_tags.pop(183)\n",
        "mystem_tokens.pop(183)"
      ]
    },
    {
      "cell_type": "code",
      "execution_count": null,
      "metadata": {
        "colab": {
          "base_uri": "https://localhost:8080/",
          "height": 37
        },
        "id": "4q0_V9VWUIlp",
        "outputId": "96ea3608-7e0c-4c5b-b458-f40b779ca678"
      },
      "outputs": [
        {
          "data": {
            "application/vnd.google.colaboratory.intrinsic+json": {
              "type": "string"
            },
            "text/plain": [
              "'Мамина'"
            ]
          },
          "execution_count": 25,
          "metadata": {},
          "output_type": "execute_result"
        }
      ],
      "source": [
        "# mystem_tokens.index('Мамина')\n",
        "mystem_tags.pop(382)\n",
        "mystem_tokens.pop(382)"
      ]
    },
    {
      "cell_type": "markdown",
      "metadata": {
        "id": "6We_lMVVthDS"
      },
      "source": [
        "После выравнивания результатов разметки мы применяем функцию, для конвертацию разметок в систему, которую использовала я при разметке датасета вручную:"
      ]
    },
    {
      "cell_type": "code",
      "execution_count": null,
      "metadata": {
        "id": "ZlG4jU5xUhPS"
      },
      "outputs": [],
      "source": [
        "def convert_to_upos(tags):\n",
        "  new_tags = []\n",
        "  convert_dict = {\n",
        "      'A': 'ADJ',\n",
        "      'ADJF':'ADJ',\n",
        "      'ADJS':'ADJ',\n",
        "      'ADVB':'ADV',\n",
        "      'ADVPRO': 'ADV',\n",
        "      'ANUM': 'ADJ',\n",
        "      'APRO': 'ADJ',\n",
        "      'AUX' : 'VERB',\n",
        "      'CCONJ': 'CONJ',\n",
        "      'DET': 'ADJ',\n",
        "      'GRND': 'VERB',\n",
        "      'INFN': 'VERB',\n",
        "      'NPRO': 'PRON',\n",
        "      'NUMR': 'NUM',\n",
        "      'PR': 'ADP',\n",
        "      'PRCL': 'PART',\n",
        "      'PREP': 'ADP',\n",
        "      'PROPN': 'NOUN',\n",
        "      'PRTF': 'VERB',\n",
        "      'PRTS': 'VERB',\n",
        "      'S': 'NOUN',\n",
        "      'SCONJ': 'CONJ',\n",
        "      'SPRO': 'PRON',\n",
        "      'V': 'VERB'\n",
        "      }\n",
        "  upos_tags = ['ADJ', 'ADP', 'ADV', 'CONJ', 'INTJ', 'NOUN', 'NUM', 'PART', 'PRON', 'VERB']\n",
        "\n",
        "  for i in range(len(tags)):\n",
        "    if tags[i] not in upos_tags:\n",
        "      new_tags.append(convert_dict[tags[i]])\n",
        "    else:\n",
        "      new_tags.append(tags[i])\n",
        "\n",
        "  return new_tags"
      ]
    },
    {
      "cell_type": "code",
      "execution_count": null,
      "metadata": {
        "id": "6AmCaaLeYsAN"
      },
      "outputs": [],
      "source": [
        "clean_pymorphy_tags = convert_to_upos([str(tag) for tag in clean_pymorphy_tags])"
      ]
    },
    {
      "cell_type": "code",
      "execution_count": null,
      "metadata": {
        "id": "I3hD1MXSXKC5"
      },
      "outputs": [],
      "source": [
        "mystem_tags = convert_to_upos(mystem_tags)\n",
        "clean_stanza_tags = convert_to_upos(clean_stanza_tags)"
      ]
    },
    {
      "cell_type": "markdown",
      "metadata": {
        "id": "miId8LZqQ8zr"
      },
      "source": [
        "Далее посмотрим на accuracy для различных POS теггеров"
      ]
    },
    {
      "cell_type": "code",
      "execution_count": null,
      "metadata": {
        "colab": {
          "base_uri": "https://localhost:8080/"
        },
        "id": "siqhTAJI8MEe",
        "outputId": "60b06acf-e74e-4f54-dda2-1187f2865a08"
      },
      "outputs": [
        {
          "name": "stdout",
          "output_type": "stream",
          "text": [
            "Pymorphy, accuracy: 0.9070\n",
            "Mystem, accuracy: 0.9372\n",
            "Stanza, accuracy: 0.9422\n"
          ]
        }
      ],
      "source": [
        "print(\"Pymorphy, accuracy: %.4f\" % accuracy_score(clean_pymorphy_tags, true_tags))\n",
        "print(\"Mystem, accuracy: %.4f\" % accuracy_score(mystem_tags, true_tags))\n",
        "print(\"Stanza, accuracy: %.4f\" % accuracy_score(clean_stanza_tags, true_tags))"
      ]
    },
    {
      "cell_type": "markdown",
      "metadata": {
        "id": "g1pj8r_y-WTA"
      },
      "source": [
        "И на матрицы ошибок:"
      ]
    },
    {
      "cell_type": "code",
      "execution_count": null,
      "metadata": {
        "id": "HlFC2b9nD-0x"
      },
      "outputs": [],
      "source": [
        "def make_confusion_matrix(true_tags, predicted_tags, name):\n",
        "  cm = confusion_matrix(true_tags, predicted_tags)\n",
        "  thresh = cm.max() / 2.\n",
        "\n",
        "  fig, ax = plt.subplots(figsize=(7,7))\n",
        "\n",
        "  im = ax.imshow(cm, cmap='RdPu')\n",
        "  cbar = ax.figure.colorbar(im, ax=ax)\n",
        "  cbar.ax.set_ylabel(\"count of predictions\", rotation=-90, va=\"bottom\")\n",
        "  ax.tick_params(top=True, bottom=False, labeltop=True, labelbottom=False)\n",
        "  ax.set_xticks(np.arange(cm.shape[1]))\n",
        "  ax.set_yticks(np.arange(cm.shape[0]))\n",
        "  ax.set_xticklabels(set(true_tags))\n",
        "  ax.set_yticklabels(set(true_tags))\n",
        "  ax.set_xlabel('Predicted POS-tags')\n",
        "  ax.set_ylabel('True POS-tags')\n",
        "  ax.set_title(f'Confusion matrix: {name}', pad=50)\n",
        "\n",
        "  texts = []\n",
        "  for i in range(cm.shape[0]):\n",
        "    for j in range(cm.shape[1]):\n",
        "      text = im.axes.text(j, i, format(cm[i, j], \"d\"), horizontalalignment=\"center\",\n",
        "                                  color=\"white\" if cm[i, j] > thresh else \"black\")\n",
        "      texts.append(text)\n",
        "\n",
        "  fig.tight_layout()\n",
        "  plt.show()"
      ]
    },
    {
      "cell_type": "code",
      "execution_count": null,
      "metadata": {
        "colab": {
          "base_uri": "https://localhost:8080/",
          "height": 631
        },
        "id": "X1jpMvnNz9w8",
        "outputId": "f82ef454-7965-4bec-beaa-4cb6b02d77e6"
      },
      "outputs": [
        {
          "data": {
            "image/png": "[encoded data removed]",
            "text/plain": [
              "<Figure size 700x700 with 2 Axes>"
            ]
          },
          "metadata": {},
          "output_type": "display_data"
        }
      ],
      "source": [
        "make_confusion_matrix(true_tags, clean_pymorphy_tags, 'pymorphy')"
      ]
    },
    {
      "cell_type": "code",
      "execution_count": null,
      "metadata": {
        "colab": {
          "base_uri": "https://localhost:8080/",
          "height": 631
        },
        "id": "tUiKyr7IB88l",
        "outputId": "c79aee77-9a2f-4c2d-ffb8-cd5588ff9814"
      },
      "outputs": [
        {
          "data": {
            "image/png": "[encoded data removed]",
            "text/plain": [
              "<Figure size 700x700 with 2 Axes>"
            ]
          },
          "metadata": {},
          "output_type": "display_data"
        }
      ],
      "source": [
        "make_confusion_matrix(true_tags, mystem_tags, 'mystem')"
      ]
    },
    {
      "cell_type": "code",
      "execution_count": null,
      "metadata": {
        "colab": {
          "base_uri": "https://localhost:8080/",
          "height": 703
        },
        "id": "69sGQHfACAea",
        "outputId": "7732b42f-3cb7-4a5a-d715-9ffede4533e3"
      },
      "outputs": [
        {
          "data": {
            "image/png": "[encoded data removed]",
            "text/plain": [
              "<Figure size 700x700 with 2 Axes>"
            ]
          },
          "metadata": {},
          "output_type": "display_data"
        }
      ],
      "source": [
        "make_confusion_matrix(true_tags, clean_stanza_tags, 'stanza')"
      ]
    },
    {
      "cell_type": "markdown",
      "metadata": {
        "id": "ytT931kACGkE"
      },
      "source": [
        "Вывод: все POS теггеры хорошо справились, но лучше всего себя показал POS теггер stanza. Его будем использовать для создания chunker-a"
      ]
    },
    {
      "cell_type": "markdown",
      "metadata": {
        "id": "1GeL-UvRDk6m"
      },
      "source": [
        "### Chunker"
      ]
    },
    {
      "cell_type": "markdown",
      "metadata": {
        "id": "cKPHeH0uSE9w"
      },
      "source": [
        "Возьмем отзывы из предыдущей ДЗ"
      ]
    },
    {
      "cell_type": "code",
      "execution_count": 7,
      "metadata": {
        "id": "YlHqDtgqCcZU",
        "colab": {
          "base_uri": "https://localhost:8080/",
          "height": 204
        },
        "outputId": "6879fae7-7332-479a-babf-2c17b7cac94d"
      },
      "outputs": [
        {
          "output_type": "execute_result",
          "data": {
            "text/plain": [
              "   Класс                                              Текст\n",
              "0      1  я хотела бы поделиться своим отзывом о тональн...\n",
              "1      1  давно искала идеальный тональный крем фирму вы...\n",
              "2      1  о данном тональном креме я узнала пару месяцев...\n",
              "3      1  всем привет до этого тонального крема с брендо...\n",
              "4      1  ни для кого не секрет что комби кожа и жирная ..."
            ],
            "text/html": [
              "\n",
              "  <div id=\"df-4cf73d3f-60ae-4d5e-ae22-d11e0924bfa9\" class=\"colab-df-container\">\n",
              "    <div>\n",
              "<style scoped>\n",
              "    .dataframe tbody tr th:only-of-type {\n",
              "        vertical-align: middle;\n",
              "    }\n",
              "\n",
              "    .dataframe tbody tr th {\n",
              "        vertical-align: top;\n",
              "    }\n",
              "\n",
              "    .dataframe thead th {\n",
              "        text-align: right;\n",
              "    }\n",
              "</style>\n",
              "<table border=\"1\" class=\"dataframe\">\n",
              "  <thead>\n",
              "    <tr style=\"text-align: right;\">\n",
              "      <th></th>\n",
              "      <th>Класс</th>\n",
              "      <th>Текст</th>\n",
              "    </tr>\n",
              "  </thead>\n",
              "  <tbody>\n",
              "    <tr>\n",
              "      <th>0</th>\n",
              "      <td>1</td>\n",
              "      <td>я хотела бы поделиться своим отзывом о тональн...</td>\n",
              "    </tr>\n",
              "    <tr>\n",
              "      <th>1</th>\n",
              "      <td>1</td>\n",
              "      <td>давно искала идеальный тональный крем фирму вы...</td>\n",
              "    </tr>\n",
              "    <tr>\n",
              "      <th>2</th>\n",
              "      <td>1</td>\n",
              "      <td>о данном тональном креме я узнала пару месяцев...</td>\n",
              "    </tr>\n",
              "    <tr>\n",
              "      <th>3</th>\n",
              "      <td>1</td>\n",
              "      <td>всем привет до этого тонального крема с брендо...</td>\n",
              "    </tr>\n",
              "    <tr>\n",
              "      <th>4</th>\n",
              "      <td>1</td>\n",
              "      <td>ни для кого не секрет что комби кожа и жирная ...</td>\n",
              "    </tr>\n",
              "  </tbody>\n",
              "</table>\n",
              "</div>\n",
              "    <div class=\"colab-df-buttons\">\n",
              "\n",
              "  <div class=\"colab-df-container\">\n",
              "    <button class=\"colab-df-convert\" onclick=\"convertToInteractive('df-4cf73d3f-60ae-4d5e-ae22-d11e0924bfa9')\"\n",
              "            title=\"Convert this dataframe to an interactive table.\"\n",
              "            style=\"display:none;\">\n",
              "\n",
              "  <svg xmlns=\"http://www.w3.org/2000/svg\" height=\"24px\" viewBox=\"0 -960 960 960\">\n",
              "    <path d=\"M120-120v-720h720v720H120Zm60-500h600v-160H180v160Zm220 220h160v-160H400v160Zm0 220h160v-160H400v160ZM180-400h160v-160H180v160Zm440 0h160v-160H620v160ZM180-180h160v-160H180v160Zm440 0h160v-160H620v160Z\"/>\n",
              "  </svg>\n",
              "    </button>\n",
              "\n",
              "  <style>\n",
              "    .colab-df-container {\n",
              "      display:flex;\n",
              "      gap: 12px;\n",
              "    }\n",
              "\n",
              "    .colab-df-convert {\n",
              "      background-color: #E8F0FE;\n",
              "      border: none;\n",
              "      border-radius: 50%;\n",
              "      cursor: pointer;\n",
              "      display: none;\n",
              "      fill: #1967D2;\n",
              "      height: 32px;\n",
              "      padding: 0 0 0 0;\n",
              "      width: 32px;\n",
              "    }\n",
              "\n",
              "    .colab-df-convert:hover {\n",
              "      background-color: #E2EBFA;\n",
              "      box-shadow: 0px 1px 2px rgba(60, 64, 67, 0.3), 0px 1px 3px 1px rgba(60, 64, 67, 0.15);\n",
              "      fill: #174EA6;\n",
              "    }\n",
              "\n",
              "    .colab-df-buttons div {\n",
              "      margin-bottom: 4px;\n",
              "    }\n",
              "\n",
              "    [theme=dark] .colab-df-convert {\n",
              "      background-color: #3B4455;\n",
              "      fill: #D2E3FC;\n",
              "    }\n",
              "\n",
              "    [theme=dark] .colab-df-convert:hover {\n",
              "      background-color: #434B5C;\n",
              "      box-shadow: 0px 1px 3px 1px rgba(0, 0, 0, 0.15);\n",
              "      filter: drop-shadow(0px 1px 2px rgba(0, 0, 0, 0.3));\n",
              "      fill: #FFFFFF;\n",
              "    }\n",
              "  </style>\n",
              "\n",
              "    <script>\n",
              "      const buttonEl =\n",
              "        document.querySelector('#df-4cf73d3f-60ae-4d5e-ae22-d11e0924bfa9 button.colab-df-convert');\n",
              "      buttonEl.style.display =\n",
              "        google.colab.kernel.accessAllowed ? 'block' : 'none';\n",
              "\n",
              "      async function convertToInteractive(key) {\n",
              "        const element = document.querySelector('#df-4cf73d3f-60ae-4d5e-ae22-d11e0924bfa9');\n",
              "        const dataTable =\n",
              "          await google.colab.kernel.invokeFunction('convertToInteractive',\n",
              "                                                    [key], {});\n",
              "        if (!dataTable) return;\n",
              "\n",
              "        const docLinkHtml = 'Like what you see? Visit the ' +\n",
              "          '<a target=\"_blank\" href=https://colab.research.google.com/notebooks/data_table.ipynb>data table notebook</a>'\n",
              "          + ' to learn more about interactive tables.';\n",
              "        element.innerHTML = '';\n",
              "        dataTable['output_type'] = 'display_data';\n",
              "        await google.colab.output.renderOutput(dataTable, element);\n",
              "        const docLink = document.createElement('div');\n",
              "        docLink.innerHTML = docLinkHtml;\n",
              "        element.appendChild(docLink);\n",
              "      }\n",
              "    </script>\n",
              "  </div>\n",
              "\n",
              "\n",
              "<div id=\"df-e0b6abe3-57fe-42a6-9449-87ee59094384\">\n",
              "  <button class=\"colab-df-quickchart\" onclick=\"quickchart('df-e0b6abe3-57fe-42a6-9449-87ee59094384')\"\n",
              "            title=\"Suggest charts.\"\n",
              "            style=\"display:none;\">\n",
              "\n",
              "<svg xmlns=\"http://www.w3.org/2000/svg\" height=\"24px\"viewBox=\"0 0 24 24\"\n",
              "     width=\"24px\">\n",
              "    <g>\n",
              "        <path d=\"M19 3H5c-1.1 0-2 .9-2 2v14c0 1.1.9 2 2 2h14c1.1 0 2-.9 2-2V5c0-1.1-.9-2-2-2zM9 17H7v-7h2v7zm4 0h-2V7h2v10zm4 0h-2v-4h2v4z\"/>\n",
              "    </g>\n",
              "</svg>\n",
              "  </button>\n",
              "\n",
              "<style>\n",
              "  .colab-df-quickchart {\n",
              "      --bg-color: #E8F0FE;\n",
              "      --fill-color: #1967D2;\n",
              "      --hover-bg-color: #E2EBFA;\n",
              "      --hover-fill-color: #174EA6;\n",
              "      --disabled-fill-color: #AAA;\n",
              "      --disabled-bg-color: #DDD;\n",
              "  }\n",
              "\n",
              "  [theme=dark] .colab-df-quickchart {\n",
              "      --bg-color: #3B4455;\n",
              "      --fill-color: #D2E3FC;\n",
              "      --hover-bg-color: #434B5C;\n",
              "      --hover-fill-color: #FFFFFF;\n",
              "      --disabled-bg-color: #3B4455;\n",
              "      --disabled-fill-color: #666;\n",
              "  }\n",
              "\n",
              "  .colab-df-quickchart {\n",
              "    background-color: var(--bg-color);\n",
              "    border: none;\n",
              "    border-radius: 50%;\n",
              "    cursor: pointer;\n",
              "    display: none;\n",
              "    fill: var(--fill-color);\n",
              "    height: 32px;\n",
              "    padding: 0;\n",
              "    width: 32px;\n",
              "  }\n",
              "\n",
              "  .colab-df-quickchart:hover {\n",
              "    background-color: var(--hover-bg-color);\n",
              "    box-shadow: 0 1px 2px rgba(60, 64, 67, 0.3), 0 1px 3px 1px rgba(60, 64, 67, 0.15);\n",
              "    fill: var(--button-hover-fill-color);\n",
              "  }\n",
              "\n",
              "  .colab-df-quickchart-complete:disabled,\n",
              "  .colab-df-quickchart-complete:disabled:hover {\n",
              "    background-color: var(--disabled-bg-color);\n",
              "    fill: var(--disabled-fill-color);\n",
              "    box-shadow: none;\n",
              "  }\n",
              "\n",
              "  .colab-df-spinner {\n",
              "    border: 2px solid var(--fill-color);\n",
              "    border-color: transparent;\n",
              "    border-bottom-color: var(--fill-color);\n",
              "    animation:\n",
              "      spin 1s steps(1) infinite;\n",
              "  }\n",
              "\n",
              "  @keyframes spin {\n",
              "    0% {\n",
              "      border-color: transparent;\n",
              "      border-bottom-color: var(--fill-color);\n",
              "      border-left-color: var(--fill-color);\n",
              "    }\n",
              "    20% {\n",
              "      border-color: transparent;\n",
              "      border-left-color: var(--fill-color);\n",
              "      border-top-color: var(--fill-color);\n",
              "    }\n",
              "    30% {\n",
              "      border-color: transparent;\n",
              "      border-left-color: var(--fill-color);\n",
              "      border-top-color: var(--fill-color);\n",
              "      border-right-color: var(--fill-color);\n",
              "    }\n",
              "    40% {\n",
              "      border-color: transparent;\n",
              "      border-right-color: var(--fill-color);\n",
              "      border-top-color: var(--fill-color);\n",
              "    }\n",
              "    60% {\n",
              "      border-color: transparent;\n",
              "      border-right-color: var(--fill-color);\n",
              "    }\n",
              "    80% {\n",
              "      border-color: transparent;\n",
              "      border-right-color: var(--fill-color);\n",
              "      border-bottom-color: var(--fill-color);\n",
              "    }\n",
              "    90% {\n",
              "      border-color: transparent;\n",
              "      border-bottom-color: var(--fill-color);\n",
              "    }\n",
              "  }\n",
              "</style>\n",
              "\n",
              "  <script>\n",
              "    async function quickchart(key) {\n",
              "      const quickchartButtonEl =\n",
              "        document.querySelector('#' + key + ' button');\n",
              "      quickchartButtonEl.disabled = true;  // To prevent multiple clicks.\n",
              "      quickchartButtonEl.classList.add('colab-df-spinner');\n",
              "      try {\n",
              "        const charts = await google.colab.kernel.invokeFunction(\n",
              "            'suggestCharts', [key], {});\n",
              "      } catch (error) {\n",
              "        console.error('Error during call to suggestCharts:', error);\n",
              "      }\n",
              "      quickchartButtonEl.classList.remove('colab-df-spinner');\n",
              "      quickchartButtonEl.classList.add('colab-df-quickchart-complete');\n",
              "    }\n",
              "    (() => {\n",
              "      let quickchartButtonEl =\n",
              "        document.querySelector('#df-e0b6abe3-57fe-42a6-9449-87ee59094384 button');\n",
              "      quickchartButtonEl.style.display =\n",
              "        google.colab.kernel.accessAllowed ? 'block' : 'none';\n",
              "    })();\n",
              "  </script>\n",
              "</div>\n",
              "    </div>\n",
              "  </div>\n"
            ]
          },
          "metadata": {},
          "execution_count": 7
        }
      ],
      "source": [
        "reviews = pd.read_csv('/content/programming_3rd_year/hw2/corpus_reviews.csv', delimiter=',')\n",
        "reviews = reviews.drop(['Unnamed: 0'], axis=1)\n",
        "reviews.head()"
      ]
    },
    {
      "cell_type": "code",
      "execution_count": 8,
      "metadata": {
        "id": "cKpQUVi0P6Yl"
      },
      "outputs": [],
      "source": [
        "positive_reviews = reviews[reviews['Класс'] == 1]\n",
        "negative_reviews = reviews[reviews['Класс'] == 0]"
      ]
    },
    {
      "cell_type": "markdown",
      "metadata": {
        "id": "5OgJ-IIWSKSo"
      },
      "source": [
        "Разметим их с помощью stanza"
      ]
    },
    {
      "cell_type": "code",
      "execution_count": null,
      "metadata": {
        "id": "Dg0fJx_mN3J4"
      },
      "outputs": [],
      "source": [
        "stanza.download('ru')\n",
        "nlp = stanza.Pipeline('ru')"
      ]
    },
    {
      "cell_type": "code",
      "execution_count": 10,
      "metadata": {
        "id": "BE9PX1jtQewX"
      },
      "outputs": [],
      "source": [
        "def pos_tagging(reviews):\n",
        "  pos_tagged_list = []\n",
        "  for review in reviews:\n",
        "    ana = nlp(review)\n",
        "    for i in range(len(ana.sentences[0].words)):\n",
        "      pos = ana.sentences[0].words[i].pos\n",
        "      lemma = ana.sentences[0].words[i].lemma\n",
        "      pos_tagged_list.append((lemma, pos))\n",
        "\n",
        "  return pos_tagged_list"
      ]
    },
    {
      "cell_type": "code",
      "execution_count": 11,
      "metadata": {
        "id": "3WUEfEb2RrfJ"
      },
      "outputs": [],
      "source": [
        "pos_tagged_reviews = pos_tagging(positive_reviews['Текст'].values[:5]) # возьмем часть отзывов"
      ]
    },
    {
      "cell_type": "markdown",
      "metadata": {
        "id": "NyhLbPp4SNud"
      },
      "source": [
        "Далее напишем функцию, которая по определенным шаблонам вытаскивает n-граммы из текста"
      ]
    },
    {
      "cell_type": "code",
      "execution_count": 12,
      "metadata": {
        "id": "ZpdRbbWbPedH"
      },
      "outputs": [],
      "source": [
        "def chunker(patterns, text):\n",
        "  ngrams = []\n",
        "  for pattern in patterns:\n",
        "      i = 0\n",
        "      while i < len(text):\n",
        "          j = i\n",
        "          k = 0\n",
        "          while k < len(pattern) and j < len(text):\n",
        "            if pattern[k] == text[j][1] or pattern[k] == text[j][0]:\n",
        "              k += 1\n",
        "              j += 1\n",
        "            else:\n",
        "              break\n",
        "          if k == len(pattern):\n",
        "            ngram = [word for word, _ in text[i:j]]\n",
        "            ngrams.append(ngram)\n",
        "          i += 1\n",
        "  return ngrams"
      ]
    },
    {
      "cell_type": "markdown",
      "source": [
        "В качестве шаблонов н-грамм я выбрала следующие сочетания:\n",
        "\n",
        "- существительное + наречие + прилагательное: позволяет посмотреть характеристику некоторого объекта, которую дает автор отзыва; в этих триграммах в качестве наречия обычно выступают наречия степени, подчеркивающие степень выраженности этой положительной (очень приятный, очень удобный) или негативной (очень неудобный, слишком плотный) характеристики\n",
        "\n",
        "- не + глагол + существительное: позволяет посмотреть на то, как автор отзыва описывает тональный крем в духе \"не подчеркивает шелушения\" (положительный отзыв)/\"не перекрывает высыпания\" (отрицательный отзыв); такие триграммы достаточно часто встречаются в текстах этих отзывов, и при одних и тех же существительных используются различные глаголы в зависимости от тональности отзыва\n",
        "\n",
        "- глагол + наречие: эта биграмма дает характеристику некоторым свойствам тонального крема; отличия негативного отзыва от положительного зачастую проявляются в наречии, например, \"перекрывает хорошо\"/\"перекрывает плохо\" или \"выглядеть хорошо\"/\"выглядеть ужасно\"\n"
      ],
      "metadata": {
        "id": "lnogVqKZd5he"
      }
    },
    {
      "cell_type": "code",
      "execution_count": 54,
      "metadata": {
        "id": "jF4LEUCsTLt6"
      },
      "outputs": [],
      "source": [
        "patterns = [\n",
        "    ['NOUN', 'ADV', 'ADJ'],\n",
        "    ['не', 'VERB', 'NOUN'],\n",
        "    ['VERB', 'ADV']\n",
        "]"
      ]
    },
    {
      "cell_type": "code",
      "execution_count": 55,
      "metadata": {
        "colab": {
          "base_uri": "https://localhost:8080/"
        },
        "id": "-BTSv5bNWADO",
        "outputId": "5729f3f2-b7c3-4bde-8ab3-c525edbd30c4"
      },
      "outputs": [
        {
          "output_type": "execute_result",
          "data": {
            "text/plain": [
              "[['крем', 'очень', 'приятный'],\n",
              " ['горлышко', 'совсем', 'узенький'],\n",
              " ['макияж', 'очень', 'легкий'],\n",
              " ['размер', 'вполне', 'удобный'],\n",
              " ['плотность', 'чуть', 'суховатый'],\n",
              " ['спонжа', 'более', 'тонкий'],\n",
              " ['нос', 'иногда', 'тональный'],\n",
              " ['степень', 'больше', 'полезный'],\n",
              " ['не', 'подчеркнуть', 'пора'],\n",
              " ['не', 'наносить', 'крем'],\n",
              " ['не', 'ополаскивать', 'лицо'],\n",
              " ['не', 'полосить', 'сухость'],\n",
              " ['не', 'забивать', 'пора'],\n",
              " ['не', 'подчеркивать', 'шелушинка'],\n",
              " ['стать', 'значительно'],\n",
              " ['прийти', 'быстро'],\n",
              " ['хвалить', 'вдобавок'],\n",
              " ['набить', 'очень'],\n",
              " ['попасться', 'совсем'],\n",
              " ['закрываться', 'легко'],\n",
              " ['открываться', 'уже'],\n",
              " ['стоить', 'стойко'],\n",
              " ['работать', 'отлично'],\n",
              " ['нанести', 'сначала'],\n",
              " ['ощущать', 'легко'],\n",
              " ['сойти', 'локально'],\n",
              " ['сходить', 'локально'],\n",
              " ['мочь', 'слегка'],\n",
              " ['быть', 'много'],\n",
              " ['быть', 'предостаточно'],\n",
              " ['становиться', 'более'],\n",
              " ['наносить', 'хорошо'],\n",
              " ['иметь', 'слегка'],\n",
              " ['представить', 'совсем'],\n",
              " ['выбирать', 'более'],\n",
              " ['корректировать', 'дополнительно'],\n",
              " ['выглядеть', 'отлично'],\n",
              " ['выглядеть', 'так'],\n",
              " ['выглядеть', 'более'],\n",
              " ['выглядеть', 'адекватно'],\n",
              " ['наносить', 'максимально'],\n",
              " ['рассказать', 'подробно'],\n",
              " ['помогать', 'наверное'],\n",
              " ['жмать', 'нежно'],\n",
              " ['выглядеть', 'наглухо'],\n",
              " ['матировать', 'наглухо'],\n",
              " ['ложиться', 'хорошо'],\n",
              " ['сушить', 'так'],\n",
              " ['становиться', 'более'],\n",
              " ['подсветить', 'изнутри'],\n",
              " ['понравиться', 'гораздо']]"
            ]
          },
          "metadata": {},
          "execution_count": 55
        }
      ],
      "source": [
        "chunker(patterns, pos_tagged_reviews)"
      ]
    },
    {
      "cell_type": "markdown",
      "metadata": {
        "id": "aUCaINpQZRz0"
      },
      "source": [
        "Далее посмотрим на то, какие н-граммы встречаются в негативных отзывах"
      ]
    },
    {
      "cell_type": "code",
      "execution_count": 49,
      "metadata": {
        "id": "yZVr27sFZd58"
      },
      "outputs": [],
      "source": [
        "neg_tagged_reviews = pos_tagging(negative_reviews['Текст'].values[:5]) # возьмем часть отзывов"
      ]
    },
    {
      "cell_type": "code",
      "execution_count": 56,
      "metadata": {
        "colab": {
          "base_uri": "https://localhost:8080/"
        },
        "id": "LmC12fBoZkYc",
        "outputId": "771df800-9daa-44fc-810e-5d13d7ce219a"
      },
      "outputs": [
        {
          "output_type": "execute_result",
          "data": {
            "text/plain": [
              "[['масло', 'очень', 'ощутимый'],\n",
              " ['флакон', 'вполне', 'удобный'],\n",
              " ['цвет', 'очень', 'светлый'],\n",
              " ['состояние', 'сейчас', 'нормальный'],\n",
              " ['тон', 'очень', 'заметный'],\n",
              " ['случай', 'очень', 'легкий'],\n",
              " ['крем', 'очень', 'неудобный'],\n",
              " ['не', 'спасать', 'ситуация'],\n",
              " ['не', 'маскировать', 'недостаток'],\n",
              " ['не', 'нравиться', 'ощущение'],\n",
              " ['не', 'вызывать', 'раздражение'],\n",
              " ['не', 'ложиться', 'маска'],\n",
              " ['провести', 'легонько'],\n",
              " ['быть', 'куда'],\n",
              " ['мочь', 'спокойно'],\n",
              " ['знать', 'рано'],\n",
              " ['покупать', 'типо'],\n",
              " ['наносить', 'конечно'],\n",
              " ['виглядеть', 'более'],\n",
              " ['купить', 'еще'],\n",
              " ['пролежать', 'практически'],\n",
              " ['показать', 'почему'],\n",
              " ['выглядеть', 'свежо'],\n",
              " ['распределять', 'равномерно'],\n",
              " ['густеть', 'качественно'],\n",
              " ['смотреться', 'ужасно'],\n",
              " ['хотеться', 'скоро'],\n",
              " ['выглядеть', 'еще'],\n",
              " ['нет', 'вроде'],\n",
              " ['загореть', 'поэтому'],\n",
              " ['смотреться', 'очень'],\n",
              " ['набирать', 'слишком'],\n",
              " ['иметь', 'более'],\n",
              " ['выбрать', 'темный'],\n",
              " ['ошибиться', 'надо'],\n",
              " ['брать', 'светлый'],\n",
              " ['удовлетворить', 'уже'],\n",
              " ['растекаться', 'хорошо'],\n",
              " ['наносить', 'более'],\n",
              " ['получаться', 'гораздо'],\n",
              " ['сомневаться', 'возможно'],\n",
              " ['оказаться', 'очень'],\n",
              " ['открываться', 'вместе'],\n",
              " ['оказываться', 'очень']]"
            ]
          },
          "metadata": {},
          "execution_count": 56
        }
      ],
      "source": [
        "chunker(patterns, neg_tagged_reviews)"
      ]
    },
    {
      "cell_type": "markdown",
      "metadata": {
        "id": "dlRfrYSebT9_"
      },
      "source": [
        "Таким образом, мы видим, что даже по одним и тем же шаблонам в положительных и негативных отзывах встречаются разные н-граммы, коррелирующие с тональностью отзыва. При бОльшем количестве размеченных отзывов и при подключении подсчета частотности н-грамм можно получить хорошее качество работы алгоритма"
      ]
    }
  ],
  "metadata": {
    "colab": {
      "provenance": []
    },
    "kernelspec": {
      "display_name": "Python 3",
      "name": "python3"
    },
    "language_info": {
      "name": "python"
    },
    "widgets": {
      "application/vnd.jupyter.widget-state+json": {
        "0ad87b052fbc4c76b4d0b308b4443fa4": {
          "model_module": "@jupyter-widgets/controls",
          "model_module_version": "1.5.0",
          "model_name": "HBoxModel",
          "state": {
            "_dom_classes": [],
            "_model_module": "@jupyter-widgets/controls",
            "_model_module_version": "1.5.0",
            "_model_name": "HBoxModel",
            "_view_count": null,
            "_view_module": "@jupyter-widgets/controls",
            "_view_module_version": "1.5.0",
            "_view_name": "HBoxView",
            "box_style": "",
            "children": [
              "IPY_MODEL_46e57823593f4dbcae1a94f8351b03d2",
              "IPY_MODEL_7068108bdb5a47899cc3144eb34bfba9",
              "IPY_MODEL_24254a9333fa4964beb6cebb897912ce"
            ],
            "layout": "IPY_MODEL_4b46c62a993247778337d1d3ee4332b7"
          }
        },
        "0bf10a17464848d1b5153ba4fa6539e6": {
          "model_module": "@jupyter-widgets/base",
          "model_module_version": "1.2.0",
          "model_name": "LayoutModel",
          "state": {
            "_model_module": "@jupyter-widgets/base",
            "_model_module_version": "1.2.0",
            "_model_name": "LayoutModel",
            "_view_count": null,
            "_view_module": "@jupyter-widgets/base",
            "_view_module_version": "1.2.0",
            "_view_name": "LayoutView",
            "align_content": null,
            "align_items": null,
            "align_self": null,
            "border": null,
            "bottom": null,
            "display": null,
            "flex": null,
            "flex_flow": null,
            "grid_area": null,
            "grid_auto_columns": null,
            "grid_auto_flow": null,
            "grid_auto_rows": null,
            "grid_column": null,
            "grid_gap": null,
            "grid_row": null,
            "grid_template_areas": null,
            "grid_template_columns": null,
            "grid_template_rows": null,
            "height": null,
            "justify_content": null,
            "justify_items": null,
            "left": null,
            "margin": null,
            "max_height": null,
            "max_width": null,
            "min_height": null,
            "min_width": null,
            "object_fit": null,
            "object_position": null,
            "order": null,
            "overflow": null,
            "overflow_x": null,
            "overflow_y": null,
            "padding": null,
            "right": null,
            "top": null,
            "visibility": null,
            "width": null
          }
        },
        "15b68b3e993d449a8168fdfb51d9dee6": {
          "model_module": "@jupyter-widgets/controls",
          "model_module_version": "1.5.0",
          "model_name": "DescriptionStyleModel",
          "state": {
            "_model_module": "@jupyter-widgets/controls",
            "_model_module_version": "1.5.0",
            "_model_name": "DescriptionStyleModel",
            "_view_count": null,
            "_view_module": "@jupyter-widgets/base",
            "_view_module_version": "1.2.0",
            "_view_name": "StyleView",
            "description_width": ""
          }
        },
        "17468345e55c414bb9a912cb50cf1a5b": {
          "model_module": "@jupyter-widgets/base",
          "model_module_version": "1.2.0",
          "model_name": "LayoutModel",
          "state": {
            "_model_module": "@jupyter-widgets/base",
            "_model_module_version": "1.2.0",
            "_model_name": "LayoutModel",
            "_view_count": null,
            "_view_module": "@jupyter-widgets/base",
            "_view_module_version": "1.2.0",
            "_view_name": "LayoutView",
            "align_content": null,
            "align_items": null,
            "align_self": null,
            "border": null,
            "bottom": null,
            "display": null,
            "flex": null,
            "flex_flow": null,
            "grid_area": null,
            "grid_auto_columns": null,
            "grid_auto_flow": null,
            "grid_auto_rows": null,
            "grid_column": null,
            "grid_gap": null,
            "grid_row": null,
            "grid_template_areas": null,
            "grid_template_columns": null,
            "grid_template_rows": null,
            "height": null,
            "justify_content": null,
            "justify_items": null,
            "left": null,
            "margin": null,
            "max_height": null,
            "max_width": null,
            "min_height": null,
            "min_width": null,
            "object_fit": null,
            "object_position": null,
            "order": null,
            "overflow": null,
            "overflow_x": null,
            "overflow_y": null,
            "padding": null,
            "right": null,
            "top": null,
            "visibility": null,
            "width": null
          }
        },
        "24254a9333fa4964beb6cebb897912ce": {
          "model_module": "@jupyter-widgets/controls",
          "model_module_version": "1.5.0",
          "model_name": "HTMLModel",
          "state": {
            "_dom_classes": [],
            "_model_module": "@jupyter-widgets/controls",
            "_model_module_version": "1.5.0",
            "_model_name": "HTMLModel",
            "_view_count": null,
            "_view_module": "@jupyter-widgets/controls",
            "_view_module_version": "1.5.0",
            "_view_name": "HTMLView",
            "description": "",
            "description_tooltip": null,
            "layout": "IPY_MODEL_4fdbe041e4274d20a6b62812545c2f2d",
            "placeholder": "​",
            "style": "IPY_MODEL_e884823cac914fecba59a19e6af2f055",
            "value": " 367k/? [00:00&lt;00:00, 9.17MB/s]"
          }
        },
        "2b32118cd8fd4af8aa83049fb9629aab": {
          "model_module": "@jupyter-widgets/controls",
          "model_module_version": "1.5.0",
          "model_name": "DescriptionStyleModel",
          "state": {
            "_model_module": "@jupyter-widgets/controls",
            "_model_module_version": "1.5.0",
            "_model_name": "DescriptionStyleModel",
            "_view_count": null,
            "_view_module": "@jupyter-widgets/base",
            "_view_module_version": "1.2.0",
            "_view_name": "StyleView",
            "description_width": ""
          }
        },
        "30d2712244af478f9652ca9a7047fc56": {
          "model_module": "@jupyter-widgets/controls",
          "model_module_version": "1.5.0",
          "model_name": "DescriptionStyleModel",
          "state": {
            "_model_module": "@jupyter-widgets/controls",
            "_model_module_version": "1.5.0",
            "_model_name": "DescriptionStyleModel",
            "_view_count": null,
            "_view_module": "@jupyter-widgets/base",
            "_view_module_version": "1.2.0",
            "_view_name": "StyleView",
            "description_width": ""
          }
        },
        "3291d8b4f531490fb7de695d168c9732": {
          "model_module": "@jupyter-widgets/controls",
          "model_module_version": "1.5.0",
          "model_name": "HTMLModel",
          "state": {
            "_dom_classes": [],
            "_model_module": "@jupyter-widgets/controls",
            "_model_module_version": "1.5.0",
            "_model_name": "HTMLModel",
            "_view_count": null,
            "_view_module": "@jupyter-widgets/controls",
            "_view_module_version": "1.5.0",
            "_view_name": "HTMLView",
            "description": "",
            "description_tooltip": null,
            "layout": "IPY_MODEL_d72d2f1803d445158a1b1531e75a4ef8",
            "placeholder": "​",
            "style": "IPY_MODEL_30d2712244af478f9652ca9a7047fc56",
            "value": " 367k/? [00:00&lt;00:00, 6.70MB/s]"
          }
        },
        "389a89e5a84e443d8ef11888dfc6cd22": {
          "model_module": "@jupyter-widgets/controls",
          "model_module_version": "1.5.0",
          "model_name": "DescriptionStyleModel",
          "state": {
            "_model_module": "@jupyter-widgets/controls",
            "_model_module_version": "1.5.0",
            "_model_name": "DescriptionStyleModel",
            "_view_count": null,
            "_view_module": "@jupyter-widgets/base",
            "_view_module_version": "1.2.0",
            "_view_name": "StyleView",
            "description_width": ""
          }
        },
        "44955250be314af2a9fe0ad9fe923536": {
          "model_module": "@jupyter-widgets/controls",
          "model_module_version": "1.5.0",
          "model_name": "ProgressStyleModel",
          "state": {
            "_model_module": "@jupyter-widgets/controls",
            "_model_module_version": "1.5.0",
            "_model_name": "ProgressStyleModel",
            "_view_count": null,
            "_view_module": "@jupyter-widgets/base",
            "_view_module_version": "1.2.0",
            "_view_name": "StyleView",
            "bar_color": null,
            "description_width": ""
          }
        },
        "46e57823593f4dbcae1a94f8351b03d2": {
          "model_module": "@jupyter-widgets/controls",
          "model_module_version": "1.5.0",
          "model_name": "HTMLModel",
          "state": {
            "_dom_classes": [],
            "_model_module": "@jupyter-widgets/controls",
            "_model_module_version": "1.5.0",
            "_model_name": "HTMLModel",
            "_view_count": null,
            "_view_module": "@jupyter-widgets/controls",
            "_view_module_version": "1.5.0",
            "_view_name": "HTMLView",
            "description": "",
            "description_tooltip": null,
            "layout": "IPY_MODEL_17468345e55c414bb9a912cb50cf1a5b",
            "placeholder": "​",
            "style": "IPY_MODEL_2b32118cd8fd4af8aa83049fb9629aab",
            "value": "Downloading https://raw.githubusercontent.com/stanfordnlp/stanza-resources/main/resources_1.6.0.json: "
          }
        },
        "4b46c62a993247778337d1d3ee4332b7": {
          "model_module": "@jupyter-widgets/base",
          "model_module_version": "1.2.0",
          "model_name": "LayoutModel",
          "state": {
            "_model_module": "@jupyter-widgets/base",
            "_model_module_version": "1.2.0",
            "_model_name": "LayoutModel",
            "_view_count": null,
            "_view_module": "@jupyter-widgets/base",
            "_view_module_version": "1.2.0",
            "_view_name": "LayoutView",
            "align_content": null,
            "align_items": null,
            "align_self": null,
            "border": null,
            "bottom": null,
            "display": null,
            "flex": null,
            "flex_flow": null,
            "grid_area": null,
            "grid_auto_columns": null,
            "grid_auto_flow": null,
            "grid_auto_rows": null,
            "grid_column": null,
            "grid_gap": null,
            "grid_row": null,
            "grid_template_areas": null,
            "grid_template_columns": null,
            "grid_template_rows": null,
            "height": null,
            "justify_content": null,
            "justify_items": null,
            "left": null,
            "margin": null,
            "max_height": null,
            "max_width": null,
            "min_height": null,
            "min_width": null,
            "object_fit": null,
            "object_position": null,
            "order": null,
            "overflow": null,
            "overflow_x": null,
            "overflow_y": null,
            "padding": null,
            "right": null,
            "top": null,
            "visibility": null,
            "width": null
          }
        },
        "4fdbe041e4274d20a6b62812545c2f2d": {
          "model_module": "@jupyter-widgets/base",
          "model_module_version": "1.2.0",
          "model_name": "LayoutModel",
          "state": {
            "_model_module": "@jupyter-widgets/base",
            "_model_module_version": "1.2.0",
            "_model_name": "LayoutModel",
            "_view_count": null,
            "_view_module": "@jupyter-widgets/base",
            "_view_module_version": "1.2.0",
            "_view_name": "LayoutView",
            "align_content": null,
            "align_items": null,
            "align_self": null,
            "border": null,
            "bottom": null,
            "display": null,
            "flex": null,
            "flex_flow": null,
            "grid_area": null,
            "grid_auto_columns": null,
            "grid_auto_flow": null,
            "grid_auto_rows": null,
            "grid_column": null,
            "grid_gap": null,
            "grid_row": null,
            "grid_template_areas": null,
            "grid_template_columns": null,
            "grid_template_rows": null,
            "height": null,
            "justify_content": null,
            "justify_items": null,
            "left": null,
            "margin": null,
            "max_height": null,
            "max_width": null,
            "min_height": null,
            "min_width": null,
            "object_fit": null,
            "object_position": null,
            "order": null,
            "overflow": null,
            "overflow_x": null,
            "overflow_y": null,
            "padding": null,
            "right": null,
            "top": null,
            "visibility": null,
            "width": null
          }
        },
        "5eb6d60ae92f43feba7141b74be436ec": {
          "model_module": "@jupyter-widgets/base",
          "model_module_version": "1.2.0",
          "model_name": "LayoutModel",
          "state": {
            "_model_module": "@jupyter-widgets/base",
            "_model_module_version": "1.2.0",
            "_model_name": "LayoutModel",
            "_view_count": null,
            "_view_module": "@jupyter-widgets/base",
            "_view_module_version": "1.2.0",
            "_view_name": "LayoutView",
            "align_content": null,
            "align_items": null,
            "align_self": null,
            "border": null,
            "bottom": null,
            "display": null,
            "flex": null,
            "flex_flow": null,
            "grid_area": null,
            "grid_auto_columns": null,
            "grid_auto_flow": null,
            "grid_auto_rows": null,
            "grid_column": null,
            "grid_gap": null,
            "grid_row": null,
            "grid_template_areas": null,
            "grid_template_columns": null,
            "grid_template_rows": null,
            "height": null,
            "justify_content": null,
            "justify_items": null,
            "left": null,
            "margin": null,
            "max_height": null,
            "max_width": null,
            "min_height": null,
            "min_width": null,
            "object_fit": null,
            "object_position": null,
            "order": null,
            "overflow": null,
            "overflow_x": null,
            "overflow_y": null,
            "padding": null,
            "right": null,
            "top": null,
            "visibility": null,
            "width": null
          }
        },
        "5ef3d429831a4f54adf6e3a6df80701f": {
          "model_module": "@jupyter-widgets/base",
          "model_module_version": "1.2.0",
          "model_name": "LayoutModel",
          "state": {
            "_model_module": "@jupyter-widgets/base",
            "_model_module_version": "1.2.0",
            "_model_name": "LayoutModel",
            "_view_count": null,
            "_view_module": "@jupyter-widgets/base",
            "_view_module_version": "1.2.0",
            "_view_name": "LayoutView",
            "align_content": null,
            "align_items": null,
            "align_self": null,
            "border": null,
            "bottom": null,
            "display": null,
            "flex": null,
            "flex_flow": null,
            "grid_area": null,
            "grid_auto_columns": null,
            "grid_auto_flow": null,
            "grid_auto_rows": null,
            "grid_column": null,
            "grid_gap": null,
            "grid_row": null,
            "grid_template_areas": null,
            "grid_template_columns": null,
            "grid_template_rows": null,
            "height": null,
            "justify_content": null,
            "justify_items": null,
            "left": null,
            "margin": null,
            "max_height": null,
            "max_width": null,
            "min_height": null,
            "min_width": null,
            "object_fit": null,
            "object_position": null,
            "order": null,
            "overflow": null,
            "overflow_x": null,
            "overflow_y": null,
            "padding": null,
            "right": null,
            "top": null,
            "visibility": null,
            "width": null
          }
        },
        "5f32b2ed80104c4a8cfac7353f6dc975": {
          "model_module": "@jupyter-widgets/controls",
          "model_module_version": "1.5.0",
          "model_name": "HTMLModel",
          "state": {
            "_dom_classes": [],
            "_model_module": "@jupyter-widgets/controls",
            "_model_module_version": "1.5.0",
            "_model_name": "HTMLModel",
            "_view_count": null,
            "_view_module": "@jupyter-widgets/controls",
            "_view_module_version": "1.5.0",
            "_view_name": "HTMLView",
            "description": "",
            "description_tooltip": null,
            "layout": "IPY_MODEL_5eb6d60ae92f43feba7141b74be436ec",
            "placeholder": "​",
            "style": "IPY_MODEL_389a89e5a84e443d8ef11888dfc6cd22",
            "value": "Downloading https://raw.githubusercontent.com/stanfordnlp/stanza-resources/main/resources_1.6.0.json: "
          }
        },
        "61cdac3084ba42ecb831db5e3f120b25": {
          "model_module": "@jupyter-widgets/base",
          "model_module_version": "1.2.0",
          "model_name": "LayoutModel",
          "state": {
            "_model_module": "@jupyter-widgets/base",
            "_model_module_version": "1.2.0",
            "_model_name": "LayoutModel",
            "_view_count": null,
            "_view_module": "@jupyter-widgets/base",
            "_view_module_version": "1.2.0",
            "_view_name": "LayoutView",
            "align_content": null,
            "align_items": null,
            "align_self": null,
            "border": null,
            "bottom": null,
            "display": null,
            "flex": null,
            "flex_flow": null,
            "grid_area": null,
            "grid_auto_columns": null,
            "grid_auto_flow": null,
            "grid_auto_rows": null,
            "grid_column": null,
            "grid_gap": null,
            "grid_row": null,
            "grid_template_areas": null,
            "grid_template_columns": null,
            "grid_template_rows": null,
            "height": null,
            "justify_content": null,
            "justify_items": null,
            "left": null,
            "margin": null,
            "max_height": null,
            "max_width": null,
            "min_height": null,
            "min_width": null,
            "object_fit": null,
            "object_position": null,
            "order": null,
            "overflow": null,
            "overflow_x": null,
            "overflow_y": null,
            "padding": null,
            "right": null,
            "top": null,
            "visibility": null,
            "width": null
          }
        },
        "6a68afc380a54e48a6190c8d82aecf93": {
          "model_module": "@jupyter-widgets/base",
          "model_module_version": "1.2.0",
          "model_name": "LayoutModel",
          "state": {
            "_model_module": "@jupyter-widgets/base",
            "_model_module_version": "1.2.0",
            "_model_name": "LayoutModel",
            "_view_count": null,
            "_view_module": "@jupyter-widgets/base",
            "_view_module_version": "1.2.0",
            "_view_name": "LayoutView",
            "align_content": null,
            "align_items": null,
            "align_self": null,
            "border": null,
            "bottom": null,
            "display": null,
            "flex": null,
            "flex_flow": null,
            "grid_area": null,
            "grid_auto_columns": null,
            "grid_auto_flow": null,
            "grid_auto_rows": null,
            "grid_column": null,
            "grid_gap": null,
            "grid_row": null,
            "grid_template_areas": null,
            "grid_template_columns": null,
            "grid_template_rows": null,
            "height": null,
            "justify_content": null,
            "justify_items": null,
            "left": null,
            "margin": null,
            "max_height": null,
            "max_width": null,
            "min_height": null,
            "min_width": null,
            "object_fit": null,
            "object_position": null,
            "order": null,
            "overflow": null,
            "overflow_x": null,
            "overflow_y": null,
            "padding": null,
            "right": null,
            "top": null,
            "visibility": null,
            "width": null
          }
        },
        "6c5be5062cd248d9a7665306cdfab658": {
          "model_module": "@jupyter-widgets/controls",
          "model_module_version": "1.5.0",
          "model_name": "HTMLModel",
          "state": {
            "_dom_classes": [],
            "_model_module": "@jupyter-widgets/controls",
            "_model_module_version": "1.5.0",
            "_model_name": "HTMLModel",
            "_view_count": null,
            "_view_module": "@jupyter-widgets/controls",
            "_view_module_version": "1.5.0",
            "_view_name": "HTMLView",
            "description": "",
            "description_tooltip": null,
            "layout": "IPY_MODEL_d74b862b31de47be97d33680b581ea26",
            "placeholder": "​",
            "style": "IPY_MODEL_15b68b3e993d449a8168fdfb51d9dee6",
            "value": "Downloading https://huggingface.co/stanfordnlp/stanza-ru/resolve/v1.6.0/models/default.zip: 100%"
          }
        },
        "7068108bdb5a47899cc3144eb34bfba9": {
          "model_module": "@jupyter-widgets/controls",
          "model_module_version": "1.5.0",
          "model_name": "FloatProgressModel",
          "state": {
            "_dom_classes": [],
            "_model_module": "@jupyter-widgets/controls",
            "_model_module_version": "1.5.0",
            "_model_name": "FloatProgressModel",
            "_view_count": null,
            "_view_module": "@jupyter-widgets/controls",
            "_view_module_version": "1.5.0",
            "_view_name": "ProgressView",
            "bar_style": "success",
            "description": "",
            "description_tooltip": null,
            "layout": "IPY_MODEL_0bf10a17464848d1b5153ba4fa6539e6",
            "max": 45749,
            "min": 0,
            "orientation": "horizontal",
            "style": "IPY_MODEL_44955250be314af2a9fe0ad9fe923536",
            "value": 45749
          }
        },
        "798da7f682d54ff194a02087c91147d0": {
          "model_module": "@jupyter-widgets/controls",
          "model_module_version": "1.5.0",
          "model_name": "FloatProgressModel",
          "state": {
            "_dom_classes": [],
            "_model_module": "@jupyter-widgets/controls",
            "_model_module_version": "1.5.0",
            "_model_name": "FloatProgressModel",
            "_view_count": null,
            "_view_module": "@jupyter-widgets/controls",
            "_view_module_version": "1.5.0",
            "_view_name": "ProgressView",
            "bar_style": "success",
            "description": "",
            "description_tooltip": null,
            "layout": "IPY_MODEL_6a68afc380a54e48a6190c8d82aecf93",
            "max": 45749,
            "min": 0,
            "orientation": "horizontal",
            "style": "IPY_MODEL_e511330ffdc24dae94bada58400abbc3",
            "value": 45749
          }
        },
        "7ebdbf32fb0247409e2dc3324c796042": {
          "model_module": "@jupyter-widgets/base",
          "model_module_version": "1.2.0",
          "model_name": "LayoutModel",
          "state": {
            "_model_module": "@jupyter-widgets/base",
            "_model_module_version": "1.2.0",
            "_model_name": "LayoutModel",
            "_view_count": null,
            "_view_module": "@jupyter-widgets/base",
            "_view_module_version": "1.2.0",
            "_view_name": "LayoutView",
            "align_content": null,
            "align_items": null,
            "align_self": null,
            "border": null,
            "bottom": null,
            "display": null,
            "flex": null,
            "flex_flow": null,
            "grid_area": null,
            "grid_auto_columns": null,
            "grid_auto_flow": null,
            "grid_auto_rows": null,
            "grid_column": null,
            "grid_gap": null,
            "grid_row": null,
            "grid_template_areas": null,
            "grid_template_columns": null,
            "grid_template_rows": null,
            "height": null,
            "justify_content": null,
            "justify_items": null,
            "left": null,
            "margin": null,
            "max_height": null,
            "max_width": null,
            "min_height": null,
            "min_width": null,
            "object_fit": null,
            "object_position": null,
            "order": null,
            "overflow": null,
            "overflow_x": null,
            "overflow_y": null,
            "padding": null,
            "right": null,
            "top": null,
            "visibility": null,
            "width": null
          }
        },
        "841127542d0246219a777740b33e5fcd": {
          "model_module": "@jupyter-widgets/controls",
          "model_module_version": "1.5.0",
          "model_name": "ProgressStyleModel",
          "state": {
            "_model_module": "@jupyter-widgets/controls",
            "_model_module_version": "1.5.0",
            "_model_name": "ProgressStyleModel",
            "_view_count": null,
            "_view_module": "@jupyter-widgets/base",
            "_view_module_version": "1.2.0",
            "_view_name": "StyleView",
            "bar_color": null,
            "description_width": ""
          }
        },
        "b6dbb4527b264573bc17791f2a3e6454": {
          "model_module": "@jupyter-widgets/controls",
          "model_module_version": "1.5.0",
          "model_name": "HBoxModel",
          "state": {
            "_dom_classes": [],
            "_model_module": "@jupyter-widgets/controls",
            "_model_module_version": "1.5.0",
            "_model_name": "HBoxModel",
            "_view_count": null,
            "_view_module": "@jupyter-widgets/controls",
            "_view_module_version": "1.5.0",
            "_view_name": "HBoxView",
            "box_style": "",
            "children": [
              "IPY_MODEL_6c5be5062cd248d9a7665306cdfab658",
              "IPY_MODEL_e7f2873f0916439b8387a5db0ff2bbd3",
              "IPY_MODEL_fdd6df7691a04861b7bc8968b181d21f"
            ],
            "layout": "IPY_MODEL_cf137153102246fd9fdbdd5345aaf0fd"
          }
        },
        "baa75d620cf24d278cbfb1598fc8176f": {
          "model_module": "@jupyter-widgets/controls",
          "model_module_version": "1.5.0",
          "model_name": "DescriptionStyleModel",
          "state": {
            "_model_module": "@jupyter-widgets/controls",
            "_model_module_version": "1.5.0",
            "_model_name": "DescriptionStyleModel",
            "_view_count": null,
            "_view_module": "@jupyter-widgets/base",
            "_view_module_version": "1.2.0",
            "_view_name": "StyleView",
            "description_width": ""
          }
        },
        "cf137153102246fd9fdbdd5345aaf0fd": {
          "model_module": "@jupyter-widgets/base",
          "model_module_version": "1.2.0",
          "model_name": "LayoutModel",
          "state": {
            "_model_module": "@jupyter-widgets/base",
            "_model_module_version": "1.2.0",
            "_model_name": "LayoutModel",
            "_view_count": null,
            "_view_module": "@jupyter-widgets/base",
            "_view_module_version": "1.2.0",
            "_view_name": "LayoutView",
            "align_content": null,
            "align_items": null,
            "align_self": null,
            "border": null,
            "bottom": null,
            "display": null,
            "flex": null,
            "flex_flow": null,
            "grid_area": null,
            "grid_auto_columns": null,
            "grid_auto_flow": null,
            "grid_auto_rows": null,
            "grid_column": null,
            "grid_gap": null,
            "grid_row": null,
            "grid_template_areas": null,
            "grid_template_columns": null,
            "grid_template_rows": null,
            "height": null,
            "justify_content": null,
            "justify_items": null,
            "left": null,
            "margin": null,
            "max_height": null,
            "max_width": null,
            "min_height": null,
            "min_width": null,
            "object_fit": null,
            "object_position": null,
            "order": null,
            "overflow": null,
            "overflow_x": null,
            "overflow_y": null,
            "padding": null,
            "right": null,
            "top": null,
            "visibility": null,
            "width": null
          }
        },
        "d72d2f1803d445158a1b1531e75a4ef8": {
          "model_module": "@jupyter-widgets/base",
          "model_module_version": "1.2.0",
          "model_name": "LayoutModel",
          "state": {
            "_model_module": "@jupyter-widgets/base",
            "_model_module_version": "1.2.0",
            "_model_name": "LayoutModel",
            "_view_count": null,
            "_view_module": "@jupyter-widgets/base",
            "_view_module_version": "1.2.0",
            "_view_name": "LayoutView",
            "align_content": null,
            "align_items": null,
            "align_self": null,
            "border": null,
            "bottom": null,
            "display": null,
            "flex": null,
            "flex_flow": null,
            "grid_area": null,
            "grid_auto_columns": null,
            "grid_auto_flow": null,
            "grid_auto_rows": null,
            "grid_column": null,
            "grid_gap": null,
            "grid_row": null,
            "grid_template_areas": null,
            "grid_template_columns": null,
            "grid_template_rows": null,
            "height": null,
            "justify_content": null,
            "justify_items": null,
            "left": null,
            "margin": null,
            "max_height": null,
            "max_width": null,
            "min_height": null,
            "min_width": null,
            "object_fit": null,
            "object_position": null,
            "order": null,
            "overflow": null,
            "overflow_x": null,
            "overflow_y": null,
            "padding": null,
            "right": null,
            "top": null,
            "visibility": null,
            "width": null
          }
        },
        "d74b862b31de47be97d33680b581ea26": {
          "model_module": "@jupyter-widgets/base",
          "model_module_version": "1.2.0",
          "model_name": "LayoutModel",
          "state": {
            "_model_module": "@jupyter-widgets/base",
            "_model_module_version": "1.2.0",
            "_model_name": "LayoutModel",
            "_view_count": null,
            "_view_module": "@jupyter-widgets/base",
            "_view_module_version": "1.2.0",
            "_view_name": "LayoutView",
            "align_content": null,
            "align_items": null,
            "align_self": null,
            "border": null,
            "bottom": null,
            "display": null,
            "flex": null,
            "flex_flow": null,
            "grid_area": null,
            "grid_auto_columns": null,
            "grid_auto_flow": null,
            "grid_auto_rows": null,
            "grid_column": null,
            "grid_gap": null,
            "grid_row": null,
            "grid_template_areas": null,
            "grid_template_columns": null,
            "grid_template_rows": null,
            "height": null,
            "justify_content": null,
            "justify_items": null,
            "left": null,
            "margin": null,
            "max_height": null,
            "max_width": null,
            "min_height": null,
            "min_width": null,
            "object_fit": null,
            "object_position": null,
            "order": null,
            "overflow": null,
            "overflow_x": null,
            "overflow_y": null,
            "padding": null,
            "right": null,
            "top": null,
            "visibility": null,
            "width": null
          }
        },
        "de26a7af1ee649008e2a1d1c6855b89b": {
          "model_module": "@jupyter-widgets/controls",
          "model_module_version": "1.5.0",
          "model_name": "HBoxModel",
          "state": {
            "_dom_classes": [],
            "_model_module": "@jupyter-widgets/controls",
            "_model_module_version": "1.5.0",
            "_model_name": "HBoxModel",
            "_view_count": null,
            "_view_module": "@jupyter-widgets/controls",
            "_view_module_version": "1.5.0",
            "_view_name": "HBoxView",
            "box_style": "",
            "children": [
              "IPY_MODEL_5f32b2ed80104c4a8cfac7353f6dc975",
              "IPY_MODEL_798da7f682d54ff194a02087c91147d0",
              "IPY_MODEL_3291d8b4f531490fb7de695d168c9732"
            ],
            "layout": "IPY_MODEL_7ebdbf32fb0247409e2dc3324c796042"
          }
        },
        "e511330ffdc24dae94bada58400abbc3": {
          "model_module": "@jupyter-widgets/controls",
          "model_module_version": "1.5.0",
          "model_name": "ProgressStyleModel",
          "state": {
            "_model_module": "@jupyter-widgets/controls",
            "_model_module_version": "1.5.0",
            "_model_name": "ProgressStyleModel",
            "_view_count": null,
            "_view_module": "@jupyter-widgets/base",
            "_view_module_version": "1.2.0",
            "_view_name": "StyleView",
            "bar_color": null,
            "description_width": ""
          }
        },
        "e7f2873f0916439b8387a5db0ff2bbd3": {
          "model_module": "@jupyter-widgets/controls",
          "model_module_version": "1.5.0",
          "model_name": "FloatProgressModel",
          "state": {
            "_dom_classes": [],
            "_model_module": "@jupyter-widgets/controls",
            "_model_module_version": "1.5.0",
            "_model_name": "FloatProgressModel",
            "_view_count": null,
            "_view_module": "@jupyter-widgets/controls",
            "_view_module_version": "1.5.0",
            "_view_name": "ProgressView",
            "bar_style": "success",
            "description": "",
            "description_tooltip": null,
            "layout": "IPY_MODEL_5ef3d429831a4f54adf6e3a6df80701f",
            "max": 629556121,
            "min": 0,
            "orientation": "horizontal",
            "style": "IPY_MODEL_841127542d0246219a777740b33e5fcd",
            "value": 629556121
          }
        },
        "e884823cac914fecba59a19e6af2f055": {
          "model_module": "@jupyter-widgets/controls",
          "model_module_version": "1.5.0",
          "model_name": "DescriptionStyleModel",
          "state": {
            "_model_module": "@jupyter-widgets/controls",
            "_model_module_version": "1.5.0",
            "_model_name": "DescriptionStyleModel",
            "_view_count": null,
            "_view_module": "@jupyter-widgets/base",
            "_view_module_version": "1.2.0",
            "_view_name": "StyleView",
            "description_width": ""
          }
        },
        "fdd6df7691a04861b7bc8968b181d21f": {
          "model_module": "@jupyter-widgets/controls",
          "model_module_version": "1.5.0",
          "model_name": "HTMLModel",
          "state": {
            "_dom_classes": [],
            "_model_module": "@jupyter-widgets/controls",
            "_model_module_version": "1.5.0",
            "_model_name": "HTMLModel",
            "_view_count": null,
            "_view_module": "@jupyter-widgets/controls",
            "_view_module_version": "1.5.0",
            "_view_name": "HTMLView",
            "description": "",
            "description_tooltip": null,
            "layout": "IPY_MODEL_61cdac3084ba42ecb831db5e3f120b25",
            "placeholder": "​",
            "style": "IPY_MODEL_baa75d620cf24d278cbfb1598fc8176f",
            "value": " 630M/630M [00:12&lt;00:00, 60.9MB/s]"
          }
        }
      }
    }
  },
  "nbformat": 4,
  "nbformat_minor": 0
}